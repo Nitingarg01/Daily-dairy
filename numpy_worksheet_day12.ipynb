{
  "cells": [
    {
      "cell_type": "markdown",
      "metadata": {
        "id": "view-in-github",
        "colab_type": "text"
      },
      "source": [
        "<a href=\"https://colab.research.google.com/github/Nitingarg01/Daily-dairy/blob/main/numpy_worksheet_day12.ipynb\" target=\"_parent\"><img src=\"https://colab.research.google.com/assets/colab-badge.svg\" alt=\"Open In Colab\"/></a>"
      ]
    },
    {
      "cell_type": "markdown",
      "metadata": {
        "id": "NAiHu4QarQ8X"
      },
      "source": [
        "# NumPy Exercises"
      ]
    },
    {
      "cell_type": "markdown",
      "metadata": {
        "id": "aOLQnqpLrQ8a"
      },
      "source": [
        "#### Import NumPy as np"
      ]
    },
    {
      "cell_type": "code",
      "execution_count": 1,
      "metadata": {
        "collapsed": true,
        "id": "M5AgvBPrrQ8b"
      },
      "outputs": [],
      "source": [
        "import numpy as np\n"
      ]
    },
    {
      "cell_type": "markdown",
      "metadata": {
        "id": "AgnTQzS7rQ8c"
      },
      "source": [
        "#### Create an array of 10 zeros"
      ]
    },
    {
      "cell_type": "code",
      "execution_count": 2,
      "metadata": {
        "colab": {
          "base_uri": "https://localhost:8080/"
        },
        "id": "W9HIeEVhrQ8c",
        "outputId": "d90b87f0-432f-4e10-8aaf-9cc024ed96a1"
      },
      "outputs": [
        {
          "output_type": "execute_result",
          "data": {
            "text/plain": [
              "array([0., 0., 0., 0., 0., 0., 0., 0., 0., 0.])"
            ]
          },
          "metadata": {},
          "execution_count": 2
        }
      ],
      "source": [
        "np.zeros(10)"
      ]
    },
    {
      "cell_type": "code",
      "execution_count": null,
      "metadata": {
        "id": "T_FZtCELrQ8c",
        "outputId": "623b3a75-5345-4b0c-d1b1-68bbfa900293"
      },
      "outputs": [
        {
          "data": {
            "text/plain": [
              "array([0., 0., 0., 0., 0., 0., 0., 0., 0., 0.])"
            ]
          },
          "execution_count": 5,
          "metadata": {},
          "output_type": "execute_result"
        }
      ],
      "source": []
    },
    {
      "cell_type": "markdown",
      "metadata": {
        "id": "SRltBvxerQ8d"
      },
      "source": [
        "#### Create an array of 10 ones"
      ]
    },
    {
      "cell_type": "code",
      "execution_count": 3,
      "metadata": {
        "colab": {
          "base_uri": "https://localhost:8080/"
        },
        "id": "aXKPD0vzrQ8e",
        "outputId": "d9a22205-08f7-45bd-c537-72d222d71650"
      },
      "outputs": [
        {
          "output_type": "execute_result",
          "data": {
            "text/plain": [
              "array([1., 1., 1., 1., 1., 1., 1., 1., 1., 1.])"
            ]
          },
          "metadata": {},
          "execution_count": 3
        }
      ],
      "source": [
        "np.ones(10)"
      ]
    },
    {
      "cell_type": "code",
      "execution_count": null,
      "metadata": {
        "id": "gmT-Rmh8rQ8e",
        "outputId": "4eb7b95f-bb8c-4b16-b42c-edd75f2cdcda"
      },
      "outputs": [
        {
          "data": {
            "text/plain": [
              "array([1., 1., 1., 1., 1., 1., 1., 1., 1., 1.])"
            ]
          },
          "execution_count": 4,
          "metadata": {},
          "output_type": "execute_result"
        }
      ],
      "source": []
    },
    {
      "cell_type": "markdown",
      "metadata": {
        "id": "KNcaP7BurQ8e"
      },
      "source": [
        "#### Create an array of 10 fives"
      ]
    },
    {
      "cell_type": "code",
      "execution_count": 4,
      "metadata": {
        "colab": {
          "base_uri": "https://localhost:8080/"
        },
        "id": "-2S9VbwMrQ8e",
        "outputId": "e2685caf-5347-4fe0-f31d-4f6cf510fd1e"
      },
      "outputs": [
        {
          "output_type": "execute_result",
          "data": {
            "text/plain": [
              "array([5, 5, 5, 5, 5, 5, 5, 5, 5, 5])"
            ]
          },
          "metadata": {},
          "execution_count": 4
        }
      ],
      "source": [
        "np.full(10,5)"
      ]
    },
    {
      "cell_type": "code",
      "execution_count": null,
      "metadata": {
        "id": "wde1ncgsrQ8f",
        "outputId": "7fc54cc4-b94d-4dd9-b2fe-5281da407980"
      },
      "outputs": [
        {
          "data": {
            "text/plain": [
              "array([5., 5., 5., 5., 5., 5., 5., 5., 5., 5.])"
            ]
          },
          "execution_count": 6,
          "metadata": {},
          "output_type": "execute_result"
        }
      ],
      "source": []
    },
    {
      "cell_type": "markdown",
      "metadata": {
        "id": "06H8EHA8rQ8f"
      },
      "source": [
        "#### Create an array of the integers from 10 to 50"
      ]
    },
    {
      "cell_type": "code",
      "execution_count": 6,
      "metadata": {
        "colab": {
          "base_uri": "https://localhost:8080/"
        },
        "id": "_oNzoUpOrQ8f",
        "outputId": "2c1750d0-0a4b-470d-e50f-b3ac82ba12af"
      },
      "outputs": [
        {
          "output_type": "execute_result",
          "data": {
            "text/plain": [
              "array([10, 11, 12, 13, 14, 15, 16, 17, 18, 19, 20, 21, 22, 23, 24, 25, 26,\n",
              "       27, 28, 29, 30, 31, 32, 33, 34, 35, 36, 37, 38, 39, 40, 41, 42, 43,\n",
              "       44, 45, 46, 47, 48, 49, 50])"
            ]
          },
          "metadata": {},
          "execution_count": 6
        }
      ],
      "source": [
        "np.arange(10,51)"
      ]
    },
    {
      "cell_type": "code",
      "execution_count": null,
      "metadata": {
        "id": "95XlrLq7rQ8f",
        "outputId": "ff5574d4-2242-48f3-a1b0-f84e464fd17e"
      },
      "outputs": [
        {
          "data": {
            "text/plain": [
              "array([10, 11, 12, 13, 14, 15, 16, 17, 18, 19, 20, 21, 22, 23, 24, 25, 26,\n",
              "       27, 28, 29, 30, 31, 32, 33, 34, 35, 36, 37, 38, 39, 40, 41, 42, 43,\n",
              "       44, 45, 46, 47, 48, 49, 50])"
            ]
          },
          "execution_count": 7,
          "metadata": {},
          "output_type": "execute_result"
        }
      ],
      "source": []
    },
    {
      "cell_type": "markdown",
      "metadata": {
        "id": "7kBhjW2erQ8g"
      },
      "source": [
        "#### Create an array of all the even integers from 10 to 50"
      ]
    },
    {
      "cell_type": "code",
      "execution_count": 8,
      "metadata": {
        "colab": {
          "base_uri": "https://localhost:8080/"
        },
        "id": "8gvXixfwrQ8g",
        "outputId": "1f2619ae-abf1-45f4-9f54-d126be4fa32c"
      },
      "outputs": [
        {
          "output_type": "execute_result",
          "data": {
            "text/plain": [
              "array([10, 12, 14, 16, 18, 20, 22, 24, 26, 28, 30, 32, 34, 36, 38, 40, 42,\n",
              "       44, 46, 48, 50])"
            ]
          },
          "metadata": {},
          "execution_count": 8
        }
      ],
      "source": [
        "aray=np.arange(10,51,dtype=int)\n",
        "aray[aray%2==0]"
      ]
    },
    {
      "cell_type": "code",
      "execution_count": null,
      "metadata": {
        "id": "aC97NXa2rQ8g",
        "outputId": "3673a1e6-27ea-4a90-dadd-52d47a2715cf"
      },
      "outputs": [
        {
          "data": {
            "text/plain": [
              "array([10, 12, 14, 16, 18, 20, 22, 24, 26, 28, 30, 32, 34, 36, 38, 40, 42,\n",
              "       44, 46, 48, 50])"
            ]
          },
          "execution_count": 8,
          "metadata": {},
          "output_type": "execute_result"
        }
      ],
      "source": []
    },
    {
      "cell_type": "markdown",
      "metadata": {
        "id": "X19FjE6krQ8g"
      },
      "source": [
        "#### Create a 3x3 matrix with values ranging from 0 to 8"
      ]
    },
    {
      "cell_type": "code",
      "execution_count": 11,
      "metadata": {
        "colab": {
          "base_uri": "https://localhost:8080/"
        },
        "id": "iv7rMv4vrQ8g",
        "outputId": "2fc347d2-6b46-49ff-8f6d-73849f0da566"
      },
      "outputs": [
        {
          "output_type": "execute_result",
          "data": {
            "text/plain": [
              "array([[0, 1, 2],\n",
              "       [3, 4, 5],\n",
              "       [6, 7, 8]])"
            ]
          },
          "metadata": {},
          "execution_count": 11
        }
      ],
      "source": [
        "array=np.arange(0,9)\n",
        "array.reshape(3,3)"
      ]
    },
    {
      "cell_type": "code",
      "execution_count": null,
      "metadata": {
        "id": "uHVTyveCrQ8h",
        "outputId": "1d51c208-1316-4672-db5f-d85a43e504a1"
      },
      "outputs": [
        {
          "data": {
            "text/plain": [
              "array([[0, 1, 2],\n",
              "       [3, 4, 5],\n",
              "       [6, 7, 8]])"
            ]
          },
          "execution_count": 9,
          "metadata": {},
          "output_type": "execute_result"
        }
      ],
      "source": []
    },
    {
      "cell_type": "markdown",
      "metadata": {
        "id": "wclICry3rQ8h"
      },
      "source": [
        "#### Create a 3x3 identity matrix"
      ]
    },
    {
      "cell_type": "code",
      "execution_count": 12,
      "metadata": {
        "colab": {
          "base_uri": "https://localhost:8080/"
        },
        "id": "FN1Yx411rQ8h",
        "outputId": "4b371f76-8457-4dde-c228-c4bbdae9700a"
      },
      "outputs": [
        {
          "output_type": "execute_result",
          "data": {
            "text/plain": [
              "array([[1., 0., 0.],\n",
              "       [0., 1., 0.],\n",
              "       [0., 0., 1.]])"
            ]
          },
          "metadata": {},
          "execution_count": 12
        }
      ],
      "source": [
        "array=np.identity(3)\n",
        "array"
      ]
    },
    {
      "cell_type": "code",
      "execution_count": null,
      "metadata": {
        "id": "6CmMFNrOrQ8h",
        "outputId": "ec88125f-15c9-41b5-e56e-f9d831747899"
      },
      "outputs": [
        {
          "data": {
            "text/plain": [
              "array([[ 1.,  0.,  0.],\n",
              "       [ 0.,  1.,  0.],\n",
              "       [ 0.,  0.,  1.]])"
            ]
          },
          "execution_count": 8,
          "metadata": {},
          "output_type": "execute_result"
        }
      ],
      "source": []
    },
    {
      "cell_type": "markdown",
      "metadata": {
        "id": "kfsASyTurQ8h"
      },
      "source": [
        "#### Use NumPy to generate a random number between 0 and 1"
      ]
    },
    {
      "cell_type": "code",
      "execution_count": 22,
      "metadata": {
        "colab": {
          "base_uri": "https://localhost:8080/"
        },
        "id": "hfZD_inHrQ8h",
        "outputId": "d4962241-5092-48b3-f9dc-62151f2ed9c9"
      },
      "outputs": [
        {
          "output_type": "execute_result",
          "data": {
            "text/plain": [
              "array([0.42913096])"
            ]
          },
          "metadata": {},
          "execution_count": 22
        }
      ],
      "source": [
        "aray=np.random.rand(1)\n",
        "aray"
      ]
    },
    {
      "cell_type": "code",
      "execution_count": null,
      "metadata": {
        "id": "c0RcbAK1rQ8h",
        "outputId": "610ef1d1-07f5-4136-9e25-950b2dfd7e81"
      },
      "outputs": [
        {
          "data": {
            "text/plain": [
              "array([0.68660432])"
            ]
          },
          "execution_count": 15,
          "metadata": {},
          "output_type": "execute_result"
        }
      ],
      "source": []
    },
    {
      "cell_type": "markdown",
      "metadata": {
        "id": "QtlYRXu7rQ8i"
      },
      "source": [
        "#### Create the following matrix:"
      ]
    },
    {
      "cell_type": "code",
      "execution_count": 26,
      "metadata": {
        "colab": {
          "base_uri": "https://localhost:8080/"
        },
        "id": "7SBDCFRirQ8i",
        "outputId": "d8b1bf5a-bd0c-422a-d310-105f96b222df"
      },
      "outputs": [
        {
          "output_type": "stream",
          "name": "stdout",
          "text": [
            "[[0.01 0.02 0.03 0.04 0.05 0.06 0.07 0.08 0.09 0.1 ]\n",
            " [0.11 0.12 0.13 0.14 0.15 0.16 0.17 0.18 0.19 0.2 ]\n",
            " [0.21 0.22 0.23 0.24 0.25 0.26 0.27 0.28 0.29 0.3 ]\n",
            " [0.31 0.32 0.33 0.34 0.35 0.36 0.37 0.38 0.39 0.4 ]\n",
            " [0.41 0.42 0.43 0.44 0.45 0.46 0.47 0.48 0.49 0.5 ]\n",
            " [0.51 0.52 0.53 0.54 0.55 0.56 0.57 0.58 0.59 0.6 ]\n",
            " [0.61 0.62 0.63 0.64 0.65 0.66 0.67 0.68 0.69 0.7 ]\n",
            " [0.71 0.72 0.73 0.74 0.75 0.76 0.77 0.78 0.79 0.8 ]\n",
            " [0.81 0.82 0.83 0.84 0.85 0.86 0.87 0.88 0.89 0.9 ]\n",
            " [0.91 0.92 0.93 0.94 0.95 0.96 0.97 0.98 0.99 1.  ]]\n"
          ]
        }
      ],
      "source": [
        "import numpy as np\n",
        "\n",
        "# Create the 1D array with values from 0.01 to 1.00 with a step of 0.01\n",
        "array_1d = np.arange(0.01, 1.01, 0.01)\n",
        "\n",
        "# Reshape the 1D array into a 10x10 2D array\n",
        "array_2d = array_1d.reshape((10, 10))\n",
        "\n",
        "print(array_2d)\n"
      ]
    },
    {
      "cell_type": "code",
      "execution_count": 25,
      "metadata": {
        "colab": {
          "base_uri": "https://localhost:8080/",
          "height": 297
        },
        "id": "Zi0ArSyfrQ8i",
        "outputId": "47bfb18e-170d-4f6f-b9bb-ada69f390d45"
      },
      "outputs": [
        {
          "output_type": "error",
          "ename": "TypeError",
          "evalue": "'numpy.ndarray' object is not callable",
          "traceback": [
            "\u001b[0;31m---------------------------------------------------------------------------\u001b[0m",
            "\u001b[0;31mTypeError\u001b[0m                                 Traceback (most recent call last)",
            "\u001b[0;32m<ipython-input-25-e083292b02f1>\u001b[0m in \u001b[0;36m<cell line: 1>\u001b[0;34m()\u001b[0m\n\u001b[0;32m----> 1\u001b[0;31m array([[ 0.01,  0.02,  0.03,  0.04,  0.05,  0.06,  0.07,  0.08,  0.09,  0.1 ],\n\u001b[0m\u001b[1;32m      2\u001b[0m        \u001b[0;34m[\u001b[0m \u001b[0;36m0.11\u001b[0m\u001b[0;34m,\u001b[0m  \u001b[0;36m0.12\u001b[0m\u001b[0;34m,\u001b[0m  \u001b[0;36m0.13\u001b[0m\u001b[0;34m,\u001b[0m  \u001b[0;36m0.14\u001b[0m\u001b[0;34m,\u001b[0m  \u001b[0;36m0.15\u001b[0m\u001b[0;34m,\u001b[0m  \u001b[0;36m0.16\u001b[0m\u001b[0;34m,\u001b[0m  \u001b[0;36m0.17\u001b[0m\u001b[0;34m,\u001b[0m  \u001b[0;36m0.18\u001b[0m\u001b[0;34m,\u001b[0m  \u001b[0;36m0.19\u001b[0m\u001b[0;34m,\u001b[0m  \u001b[0;36m0.2\u001b[0m \u001b[0;34m]\u001b[0m\u001b[0;34m,\u001b[0m\u001b[0;34m\u001b[0m\u001b[0;34m\u001b[0m\u001b[0m\n\u001b[1;32m      3\u001b[0m        \u001b[0;34m[\u001b[0m \u001b[0;36m0.21\u001b[0m\u001b[0;34m,\u001b[0m  \u001b[0;36m0.22\u001b[0m\u001b[0;34m,\u001b[0m  \u001b[0;36m0.23\u001b[0m\u001b[0;34m,\u001b[0m  \u001b[0;36m0.24\u001b[0m\u001b[0;34m,\u001b[0m  \u001b[0;36m0.25\u001b[0m\u001b[0;34m,\u001b[0m  \u001b[0;36m0.26\u001b[0m\u001b[0;34m,\u001b[0m  \u001b[0;36m0.27\u001b[0m\u001b[0;34m,\u001b[0m  \u001b[0;36m0.28\u001b[0m\u001b[0;34m,\u001b[0m  \u001b[0;36m0.29\u001b[0m\u001b[0;34m,\u001b[0m  \u001b[0;36m0.3\u001b[0m \u001b[0;34m]\u001b[0m\u001b[0;34m,\u001b[0m\u001b[0;34m\u001b[0m\u001b[0;34m\u001b[0m\u001b[0m\n\u001b[1;32m      4\u001b[0m        \u001b[0;34m[\u001b[0m \u001b[0;36m0.31\u001b[0m\u001b[0;34m,\u001b[0m  \u001b[0;36m0.32\u001b[0m\u001b[0;34m,\u001b[0m  \u001b[0;36m0.33\u001b[0m\u001b[0;34m,\u001b[0m  \u001b[0;36m0.34\u001b[0m\u001b[0;34m,\u001b[0m  \u001b[0;36m0.35\u001b[0m\u001b[0;34m,\u001b[0m  \u001b[0;36m0.36\u001b[0m\u001b[0;34m,\u001b[0m  \u001b[0;36m0.37\u001b[0m\u001b[0;34m,\u001b[0m  \u001b[0;36m0.38\u001b[0m\u001b[0;34m,\u001b[0m  \u001b[0;36m0.39\u001b[0m\u001b[0;34m,\u001b[0m  \u001b[0;36m0.4\u001b[0m \u001b[0;34m]\u001b[0m\u001b[0;34m,\u001b[0m\u001b[0;34m\u001b[0m\u001b[0;34m\u001b[0m\u001b[0m\n\u001b[1;32m      5\u001b[0m        \u001b[0;34m[\u001b[0m \u001b[0;36m0.41\u001b[0m\u001b[0;34m,\u001b[0m  \u001b[0;36m0.42\u001b[0m\u001b[0;34m,\u001b[0m  \u001b[0;36m0.43\u001b[0m\u001b[0;34m,\u001b[0m  \u001b[0;36m0.44\u001b[0m\u001b[0;34m,\u001b[0m  \u001b[0;36m0.45\u001b[0m\u001b[0;34m,\u001b[0m  \u001b[0;36m0.46\u001b[0m\u001b[0;34m,\u001b[0m  \u001b[0;36m0.47\u001b[0m\u001b[0;34m,\u001b[0m  \u001b[0;36m0.48\u001b[0m\u001b[0;34m,\u001b[0m  \u001b[0;36m0.49\u001b[0m\u001b[0;34m,\u001b[0m  \u001b[0;36m0.5\u001b[0m \u001b[0;34m]\u001b[0m\u001b[0;34m,\u001b[0m\u001b[0;34m\u001b[0m\u001b[0;34m\u001b[0m\u001b[0m\n",
            "\u001b[0;31mTypeError\u001b[0m: 'numpy.ndarray' object is not callable"
          ]
        }
      ],
      "source": []
    },
    {
      "cell_type": "markdown",
      "metadata": {
        "id": "i-dmYVKYrQ8j"
      },
      "source": [
        "#### Create an array of 20 linearly spaced points between 0 and 1:\n",
        "\n",
        "(Hint: Use linspace function)"
      ]
    },
    {
      "cell_type": "code",
      "execution_count": 27,
      "metadata": {
        "colab": {
          "base_uri": "https://localhost:8080/"
        },
        "id": "aDg4319XrQ8k",
        "outputId": "008683da-fdc9-4401-8cf7-33b699048b21"
      },
      "outputs": [
        {
          "output_type": "stream",
          "name": "stdout",
          "text": [
            "[0.         0.05263158 0.10526316 0.15789474 0.21052632 0.26315789\n",
            " 0.31578947 0.36842105 0.42105263 0.47368421 0.52631579 0.57894737\n",
            " 0.63157895 0.68421053 0.73684211 0.78947368 0.84210526 0.89473684\n",
            " 0.94736842 1.        ]\n"
          ]
        }
      ],
      "source": [
        "import numpy as np\n",
        "\n",
        "# Create an array with 20 values evenly spaced between 0 and 1\n",
        "array = np.linspace(0, 1, 20)\n",
        "\n",
        "print(array)\n"
      ]
    },
    {
      "cell_type": "code",
      "execution_count": null,
      "metadata": {
        "id": "iprMGgv1rQ8k",
        "outputId": "e07edbdf-6e0b-4fee-f4f6-0b511ecc2188"
      },
      "outputs": [
        {
          "data": {
            "text/plain": [
              "array([ 0.        ,  0.05263158,  0.10526316,  0.15789474,  0.21052632,\n",
              "        0.26315789,  0.31578947,  0.36842105,  0.42105263,  0.47368421,\n",
              "        0.52631579,  0.57894737,  0.63157895,  0.68421053,  0.73684211,\n",
              "        0.78947368,  0.84210526,  0.89473684,  0.94736842,  1.        ])"
            ]
          },
          "execution_count": 36,
          "metadata": {},
          "output_type": "execute_result"
        }
      ],
      "source": []
    },
    {
      "cell_type": "code",
      "source": [],
      "metadata": {
        "id": "o3tQ9oerxLOo"
      },
      "execution_count": null,
      "outputs": []
    },
    {
      "cell_type": "markdown",
      "metadata": {
        "id": "WJk3kuNErQ8k"
      },
      "source": [
        "## Numpy Indexing and Selection"
      ]
    },
    {
      "cell_type": "code",
      "execution_count": null,
      "metadata": {
        "id": "CT-izJK-rQ8k",
        "outputId": "37cbf0a4-bdbc-4793-9302-82ef16fb190d"
      },
      "outputs": [
        {
          "data": {
            "text/plain": [
              "array([[ 1,  2,  3,  4,  5],\n",
              "       [ 6,  7,  8,  9, 10],\n",
              "       [11, 12, 13, 14, 15],\n",
              "       [16, 17, 18, 19, 20],\n",
              "       [21, 22, 23, 24, 25]])"
            ]
          },
          "execution_count": 38,
          "metadata": {},
          "output_type": "execute_result"
        }
      ],
      "source": [
        "mat = np.arange(1,26).reshape(5,5)\n",
        "mat"
      ]
    },
    {
      "cell_type": "markdown",
      "metadata": {
        "id": "YyiJ6q6irQ8k"
      },
      "source": [
        "You are given this matrix named mat. Write some code to get the outputs accordingly in the cells given below"
      ]
    },
    {
      "cell_type": "code",
      "execution_count": null,
      "metadata": {
        "id": "JBO934kWrQ8k"
      },
      "outputs": [],
      "source": [
        "#Enter your code here"
      ]
    },
    {
      "cell_type": "code",
      "execution_count": 33,
      "metadata": {
        "colab": {
          "base_uri": "https://localhost:8080/"
        },
        "id": "8kvbAcTzrQ8l",
        "outputId": "53937b4a-eb0a-4878-c773-ac9320b6c655"
      },
      "outputs": [
        {
          "output_type": "execute_result",
          "data": {
            "text/plain": [
              "array([[12, 13],\n",
              "       [14, 15],\n",
              "       [16, 17],\n",
              "       [18, 19],\n",
              "       [20, 21],\n",
              "       [22, 23],\n",
              "       [24, 25]])"
            ]
          },
          "metadata": {},
          "execution_count": 33
        }
      ],
      "source": [
        "np.arange(12,26).reshape(7,2)\n"
      ]
    },
    {
      "cell_type": "code",
      "execution_count": null,
      "metadata": {
        "id": "u0_LM4mUrQ8l"
      },
      "outputs": [],
      "source": [
        "#Enter your code here"
      ]
    },
    {
      "cell_type": "code",
      "execution_count": null,
      "metadata": {
        "id": "4ztV3uCxrQ8q",
        "outputId": "afb63ba2-dff8-450e-d7ba-672b71c99464"
      },
      "outputs": [
        {
          "data": {
            "text/plain": [
              "20"
            ]
          },
          "execution_count": 41,
          "metadata": {},
          "output_type": "execute_result"
        }
      ],
      "source": []
    },
    {
      "cell_type": "code",
      "execution_count": null,
      "metadata": {
        "id": "4uFIvjYGrQ8q"
      },
      "outputs": [],
      "source": [
        "#Enter your code here"
      ]
    },
    {
      "cell_type": "code",
      "execution_count": 38,
      "metadata": {
        "colab": {
          "base_uri": "https://localhost:8080/"
        },
        "id": "Vo7zuqf7rQ8q",
        "outputId": "0c850385-69b3-478f-a359-e1454eb07fce"
      },
      "outputs": [
        {
          "output_type": "stream",
          "name": "stdout",
          "text": [
            "[[ 2]\n",
            " [ 7]\n",
            " [12]]\n",
            "[21]\n"
          ]
        }
      ],
      "source": [
        "array=np.arange(2,13,5).reshape(3,1)\n",
        "print(array)\n",
        "print(sum(array))"
      ]
    },
    {
      "cell_type": "code",
      "execution_count": null,
      "metadata": {
        "id": "v5-4ygYKrQ8r"
      },
      "outputs": [],
      "source": [
        "#Enter your code here"
      ]
    },
    {
      "cell_type": "code",
      "execution_count": null,
      "metadata": {
        "id": "TBcm9wEerQ8r",
        "outputId": "c58d03e5-5b9a-49c1-a393-dd6337ecea1b"
      },
      "outputs": [
        {
          "data": {
            "text/plain": [
              "array([21, 22, 23, 24, 25])"
            ]
          },
          "execution_count": 46,
          "metadata": {},
          "output_type": "execute_result"
        }
      ],
      "source": []
    },
    {
      "cell_type": "code",
      "execution_count": null,
      "metadata": {
        "id": "jcF5__khrQ8r"
      },
      "outputs": [],
      "source": [
        "#Enter your code here"
      ]
    },
    {
      "cell_type": "code",
      "execution_count": null,
      "metadata": {
        "id": "wumecBsarQ8r",
        "outputId": "aa4bffd8-9634-488c-cee6-181194cf7d5a"
      },
      "outputs": [
        {
          "data": {
            "text/plain": [
              "array([[16, 17, 18, 19, 20],\n",
              "       [21, 22, 23, 24, 25]])"
            ]
          },
          "execution_count": 49,
          "metadata": {},
          "output_type": "execute_result"
        }
      ],
      "source": []
    },
    {
      "cell_type": "markdown",
      "metadata": {
        "id": "17uyb511rQ8r"
      },
      "source": [
        "#### Get the sum of all the values in mat"
      ]
    },
    {
      "cell_type": "code",
      "execution_count": null,
      "metadata": {
        "id": "jD_KdqpIrQ8r"
      },
      "outputs": [],
      "source": []
    },
    {
      "cell_type": "code",
      "execution_count": null,
      "metadata": {
        "id": "OaHSMLzfrQ8r",
        "outputId": "a72f25a6-7045-4ca5-fef9-9ce13f928d45"
      },
      "outputs": [
        {
          "data": {
            "text/plain": [
              "325"
            ]
          },
          "execution_count": 37,
          "metadata": {},
          "output_type": "execute_result"
        }
      ],
      "source": []
    },
    {
      "cell_type": "markdown",
      "metadata": {
        "id": "2_WpVfj9rQ8s"
      },
      "source": [
        "#### Get the standard deviation of the values in mat"
      ]
    },
    {
      "cell_type": "code",
      "execution_count": null,
      "metadata": {
        "id": "tpyqV1fSrQ8s"
      },
      "outputs": [],
      "source": []
    },
    {
      "cell_type": "code",
      "execution_count": null,
      "metadata": {
        "id": "5eSGoFxmrQ8s",
        "outputId": "de3e8e5d-7244-48bf-97f5-823b9a2364c9"
      },
      "outputs": [
        {
          "data": {
            "text/plain": [
              "7.211102550927978"
            ]
          },
          "execution_count": 35,
          "metadata": {},
          "output_type": "execute_result"
        }
      ],
      "source": []
    },
    {
      "cell_type": "markdown",
      "metadata": {
        "id": "JD8jBh3crQ8s"
      },
      "source": [
        "#### Get the sum of all the columns in mat"
      ]
    },
    {
      "cell_type": "code",
      "execution_count": null,
      "metadata": {
        "id": "wtCHZv9FrQ8s"
      },
      "outputs": [],
      "source": []
    },
    {
      "cell_type": "code",
      "execution_count": null,
      "metadata": {
        "id": "FlHWBnnjrQ8t",
        "outputId": "a63d7095-f9f8-4994-fb89-1a8675a38b92"
      },
      "outputs": [
        {
          "data": {
            "text/plain": [
              "array([55, 60, 65, 70, 75])"
            ]
          },
          "execution_count": 36,
          "metadata": {},
          "output_type": "execute_result"
        }
      ],
      "source": []
    }
  ],
  "metadata": {
    "kernelspec": {
      "display_name": "Python 3 (ipykernel)",
      "language": "python",
      "name": "python3"
    },
    "language_info": {
      "codemirror_mode": {
        "name": "ipython",
        "version": 3
      },
      "file_extension": ".py",
      "mimetype": "text/x-python",
      "name": "python",
      "nbconvert_exporter": "python",
      "pygments_lexer": "ipython3",
      "version": "3.9.7"
    },
    "colab": {
      "provenance": [],
      "include_colab_link": true
    }
  },
  "nbformat": 4,
  "nbformat_minor": 0
}