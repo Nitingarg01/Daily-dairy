{
  "nbformat": 4,
  "nbformat_minor": 0,
  "metadata": {
    "colab": {
      "provenance": [],
      "authorship_tag": "ABX9TyNoKNjgpLldBPo6ewyVPOJE",
      "include_colab_link": true
    },
    "kernelspec": {
      "name": "python3",
      "display_name": "Python 3"
    },
    "language_info": {
      "name": "python"
    }
  },
  "cells": [
    {
      "cell_type": "markdown",
      "metadata": {
        "id": "view-in-github",
        "colab_type": "text"
      },
      "source": [
        "<a href=\"https://colab.research.google.com/github/Nitingarg01/Daily-dairy/blob/main/day_5.ipynb\" target=\"_parent\"><img src=\"https://colab.research.google.com/assets/colab-badge.svg\" alt=\"Open In Colab\"/></a>"
      ]
    },
    {
      "cell_type": "code",
      "execution_count": null,
      "metadata": {
        "colab": {
          "base_uri": "https://localhost:8080/"
        },
        "id": "zc4BOtTYc1rZ",
        "outputId": "621a9eaf-c2f2-44ee-dfdf-9edf8b6136d5"
      },
      "outputs": [
        {
          "output_type": "stream",
          "name": "stdout",
          "text": [
            "enter a name\n",
            "nitin\n",
            "ok\n"
          ]
        }
      ],
      "source": [
        "name=input(\"enter a name\\n\")\n",
        "n=\"nitin\"\n",
        "if n==name:\n",
        "  print(\"ok\")\n",
        "else:\n",
        "  print(\"no\")"
      ]
    },
    {
      "cell_type": "markdown",
      "source": [
        "You have a variable age. Write a conditional statement to check if age is greater than or equal to 18. If true, print \"You are an adult\", otherwise print \"You are a minor\"."
      ],
      "metadata": {
        "id": "GhiaqpVxhX1S"
      }
    },
    {
      "cell_type": "code",
      "source": [
        "n=int(input(\"tpye ur age\\n\"))\n",
        "if n>=18:\n",
        "  print(\"ur are adult\")\n",
        "else:\n",
        "  print(\"ur are minor\")"
      ],
      "metadata": {
        "colab": {
          "base_uri": "https://localhost:8080/"
        },
        "id": "gjtSmC8fhZXC",
        "outputId": "ee27cb42-2705-4b80-9486-f5cf19ec6062"
      },
      "execution_count": null,
      "outputs": [
        {
          "output_type": "stream",
          "name": "stdout",
          "text": [
            "tpye ur age\n",
            "55\n",
            "ur are adult\n"
          ]
        }
      ]
    },
    {
      "cell_type": "markdown",
      "source": [
        "Given a variable temperature, write a conditional statement to check if temperature is below 0. If true, print \"It's freezing\", otherwise print \"It's not freezing\"."
      ],
      "metadata": {
        "id": "AVPP51q6h3Bx"
      }
    },
    {
      "cell_type": "code",
      "source": [
        "n=int(input(\"type a variable temperature\\n\"))\n",
        "if n<0:\n",
        "  print(\"its a frezing\")\n",
        "else:\n",
        "  print(\"its not a freezing\")"
      ],
      "metadata": {
        "colab": {
          "base_uri": "https://localhost:8080/"
        },
        "id": "f4lA3l8SiJMJ",
        "outputId": "9fcc62b4-4eb1-4d13-e0b1-254e16c810da"
      },
      "execution_count": null,
      "outputs": [
        {
          "output_type": "stream",
          "name": "stdout",
          "text": [
            "type a variable temperature\n",
            "-2\n",
            "its a frezing\n"
          ]
        }
      ]
    },
    {
      "cell_type": "code",
      "source": [],
      "metadata": {
        "id": "cS2GD3xji0LK"
      },
      "execution_count": null,
      "outputs": []
    },
    {
      "cell_type": "markdown",
      "source": [
        "You have a variable score. Write a conditional statement to check if score is greater than 90. If true, print \"Grade A\", if score is between 80 and 90, print \"Grade B\", otherwise print \"Grade C\"."
      ],
      "metadata": {
        "id": "EgW1ym1Ri0zO"
      }
    },
    {
      "cell_type": "code",
      "source": [
        "score=int(input(\"enter  a score\\n\"))\n",
        "if score>90:\n",
        "  print(\"grade A\")\n",
        "elif 90>=score and score>80:\n",
        "  print(\"Grade b\")\n",
        "else:\n",
        "  print(\"grade c\")"
      ],
      "metadata": {
        "id": "slaozsUNjQ1J",
        "colab": {
          "base_uri": "https://localhost:8080/"
        },
        "outputId": "b0f1244b-5b75-45a3-cf61-741b8e8385e7"
      },
      "execution_count": null,
      "outputs": [
        {
          "output_type": "stream",
          "name": "stdout",
          "text": [
            "enter  a score\n",
            "75\n",
            "grade c\n"
          ]
        }
      ]
    },
    {
      "cell_type": "markdown",
      "source": [
        " You are managing a list of employee ages. Print each age from the list using a for loop.\n",
        "\n"
      ],
      "metadata": {
        "id": "qFJMBMCmuql-"
      }
    },
    {
      "cell_type": "code",
      "source": [
        "list1=[34,44,23,45,55]\n",
        "for i in range(0,5):\n",
        "  print(list1[i],end=' ')"
      ],
      "metadata": {
        "colab": {
          "base_uri": "https://localhost:8080/"
        },
        "id": "jdfAR78yusHG",
        "outputId": "a53ca94b-d9d7-4741-ade9-db571504f1f6"
      },
      "execution_count": null,
      "outputs": [
        {
          "output_type": "stream",
          "name": "stdout",
          "text": [
            "34 44 23 45 55 "
          ]
        }
      ]
    },
    {
      "cell_type": "markdown",
      "source": [
        ". You are given a list of daily temperatures. Use a for loop to calculate and print the average temperature for the week.\n"
      ],
      "metadata": {
        "id": "IHYTUe5KvvsA"
      }
    },
    {
      "cell_type": "code",
      "source": [
        "list1=[5,54,5,6,54,5,3,24,5,]\n",
        "no_list1=len(list1)\n",
        "sum=0\n",
        "for i in range(0,no_list1):\n",
        "  sum=sum+list1[i]\n",
        "print(sum/no_list1)\n"
      ],
      "metadata": {
        "colab": {
          "base_uri": "https://localhost:8080/"
        },
        "id": "tM13RPx2v5Yq",
        "outputId": "2483282e-5e99-42a3-96ae-cb12194898af"
      },
      "execution_count": null,
      "outputs": [
        {
          "output_type": "stream",
          "name": "stdout",
          "text": [
            "17.88888888888889\n"
          ]
        }
      ]
    },
    {
      "cell_type": "markdown",
      "source": [
        "Given two variables a and b, write a conditional statement to check if a is equal to b. If true, print \"a and b are equal\", otherwise print \"a and b are not equal\"."
      ],
      "metadata": {
        "id": "VZYe2pU3yU2i"
      }
    },
    {
      "cell_type": "code",
      "source": [
        "a=int(input(\"enter value of a\\n\"))\n",
        "b=int(input(\"enter value of b\\n\"))\n",
        "if a==b:\n",
        "  print(\"a and b are equal\")\n",
        "else:\n",
        "  print(\"a and b are not equal\")"
      ],
      "metadata": {
        "colab": {
          "base_uri": "https://localhost:8080/"
        },
        "id": "AHrkvboTybTg",
        "outputId": "507c42ae-4593-4c7e-99a5-23b0e8a69d7d"
      },
      "execution_count": null,
      "outputs": [
        {
          "output_type": "stream",
          "name": "stdout",
          "text": [
            "enter value of a\n",
            "8\n",
            "enter value of b\n",
            "8\n",
            "a and b are equal\n"
          ]
        }
      ]
    },
    {
      "cell_type": "markdown",
      "source": [
        "You need to distribute candies to children. Print each child's name and the number of candies they receive, distributing 1 to 20 candies using a for loop.\n"
      ],
      "metadata": {
        "id": "rjDLb6Gx0c8e"
      }
    },
    {
      "cell_type": "code",
      "source": [
        "children = [\"Alice\", \"Bob\", \"Charlie\", \"David\", \"Eva\", \"Frank\", \"Grace\", \"Hannah\", \"Ivy\", \"Jack\"]\n",
        "\n",
        "# Distribute candies to children\n",
        "for i in range(len(children)):\n",
        "    # Calculate the number of candies for the current child\n",
        "    candies_for_child = (i % 20) + 1\n",
        "    print(f\"{children[i]} receives {candies_for_child} candies\")\n"
      ],
      "metadata": {
        "colab": {
          "base_uri": "https://localhost:8080/"
        },
        "id": "c-USOqMK1TVI",
        "outputId": "05454433-1460-4c4d-b6fe-9c602860b33a"
      },
      "execution_count": null,
      "outputs": [
        {
          "output_type": "stream",
          "name": "stdout",
          "text": [
            "Alice receives 1 candies\n",
            "Bob receives 2 candies\n",
            "Charlie receives 3 candies\n",
            "David receives 4 candies\n",
            "Eva receives 5 candies\n",
            "Frank receives 6 candies\n",
            "Grace receives 7 candies\n",
            "Hannah receives 8 candies\n",
            "Ivy receives 9 candies\n",
            "Jack receives 10 candies\n"
          ]
        }
      ]
    },
    {
      "cell_type": "markdown",
      "source": [
        " You are processing a list of book titles. Use a for loop to print each title in uppercase."
      ],
      "metadata": {
        "id": "EITacldd9lIs"
      }
    },
    {
      "cell_type": "code",
      "source": [
        "list1=['swaraj','freedom','omga','mkc']\n",
        "for i in range(0,len(list1)):\n",
        "  print(list1.upper())\n"
      ],
      "metadata": {
        "colab": {
          "base_uri": "https://localhost:8080/",
          "height": 176
        },
        "id": "OyKdgUHg9mcK",
        "outputId": "080161ad-ce8d-40ee-fc1a-27b59f2b82fd"
      },
      "execution_count": null,
      "outputs": [
        {
          "output_type": "error",
          "ename": "AttributeError",
          "evalue": "'list' object has no attribute 'upper'",
          "traceback": [
            "\u001b[0;31m---------------------------------------------------------------------------\u001b[0m",
            "\u001b[0;31mAttributeError\u001b[0m                            Traceback (most recent call last)",
            "\u001b[0;32m<ipython-input-8-b603f0648670>\u001b[0m in \u001b[0;36m<cell line: 2>\u001b[0;34m()\u001b[0m\n\u001b[1;32m      1\u001b[0m \u001b[0mlist1\u001b[0m\u001b[0;34m=\u001b[0m\u001b[0;34m[\u001b[0m\u001b[0;34m'swaraj'\u001b[0m\u001b[0;34m,\u001b[0m\u001b[0;34m'freedom'\u001b[0m\u001b[0;34m,\u001b[0m\u001b[0;34m'omga'\u001b[0m\u001b[0;34m,\u001b[0m\u001b[0;34m'mkc'\u001b[0m\u001b[0;34m]\u001b[0m\u001b[0;34m\u001b[0m\u001b[0;34m\u001b[0m\u001b[0m\n\u001b[1;32m      2\u001b[0m \u001b[0;32mfor\u001b[0m \u001b[0mi\u001b[0m \u001b[0;32min\u001b[0m \u001b[0mrange\u001b[0m\u001b[0;34m(\u001b[0m\u001b[0;36m0\u001b[0m\u001b[0;34m,\u001b[0m\u001b[0mlen\u001b[0m\u001b[0;34m(\u001b[0m\u001b[0mlist1\u001b[0m\u001b[0;34m)\u001b[0m\u001b[0;34m)\u001b[0m\u001b[0;34m:\u001b[0m\u001b[0;34m\u001b[0m\u001b[0;34m\u001b[0m\u001b[0m\n\u001b[0;32m----> 3\u001b[0;31m   \u001b[0mprint\u001b[0m\u001b[0;34m(\u001b[0m\u001b[0mlist1\u001b[0m\u001b[0;34m.\u001b[0m\u001b[0mupper\u001b[0m\u001b[0;34m(\u001b[0m\u001b[0;34m)\u001b[0m\u001b[0;34m)\u001b[0m\u001b[0;34m\u001b[0m\u001b[0;34m\u001b[0m\u001b[0m\n\u001b[0m",
            "\u001b[0;31mAttributeError\u001b[0m: 'list' object has no attribute 'upper'"
          ]
        }
      ]
    },
    {
      "cell_type": "markdown",
      "source": [],
      "metadata": {
        "id": "083w5Q9KiuaT"
      }
    },
    {
      "cell_type": "markdown",
      "source": [],
      "metadata": {
        "id": "eZcSB8Yk0QvG"
      }
    },
    {
      "cell_type": "markdown",
      "source": [],
      "metadata": {
        "id": "uBuaT4_fiIVu"
      }
    }
  ]
}