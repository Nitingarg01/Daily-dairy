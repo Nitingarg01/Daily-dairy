{
  "nbformat": 4,
  "nbformat_minor": 0,
  "metadata": {
    "colab": {
      "provenance": [],
      "authorship_tag": "ABX9TyMReXapUNG0LRdcTatLy+Lt",
      "include_colab_link": true
    },
    "kernelspec": {
      "name": "python3",
      "display_name": "Python 3"
    },
    "language_info": {
      "name": "python"
    }
  },
  "cells": [
    {
      "cell_type": "markdown",
      "metadata": {
        "id": "view-in-github",
        "colab_type": "text"
      },
      "source": [
        "<a href=\"https://colab.research.google.com/github/Nitingarg01/Daily-dairy/blob/main/day_2.ipynb\" target=\"_parent\"><img src=\"https://colab.research.google.com/assets/colab-badge.svg\" alt=\"Open In Colab\"/></a>"
      ]
    },
    {
      "cell_type": "markdown",
      "source": [
        "Day 2 learn list and tuple in python"
      ],
      "metadata": {
        "id": "lPY91dHyD65Y"
      }
    },
    {
      "cell_type": "code",
      "execution_count": null,
      "metadata": {
        "colab": {
          "base_uri": "https://localhost:8080/"
        },
        "id": "2btJnU2oyQKK",
        "outputId": "abf84884-3a8c-4ae7-cc40-9969388027b5"
      },
      "outputs": [
        {
          "output_type": "stream",
          "name": "stdout",
          "text": [
            "red\n",
            "blue\n",
            "yellow\n",
            "['blue', 'green', 'yellow']\n",
            "['blue', 'green']\n"
          ]
        }
      ],
      "source": [
        "colors = ['red', 'blue', 'green', 'yellow']\n",
        "print(colors[0])\n",
        "print(colors[1])\n",
        "print(colors[3])\n",
        "print(colors[1:4])\n",
        "print(colors[1:3])\n",
        "\n",
        "\n",
        "\n",
        "\n"
      ]
    },
    {
      "cell_type": "code",
      "source": [
        "water_level = [730, 709, 682, 712, 733, 751, 740]\n",
        "water_level.remove(682)\n",
        "water_level.insert(2,693)\n",
        "print(water_level)"
      ],
      "metadata": {
        "colab": {
          "base_uri": "https://localhost:8080/"
        },
        "id": "B-uYzNEu8a2P",
        "outputId": "7209e017-71b2-49c7-f8c2-51e8592be2a8"
      },
      "execution_count": null,
      "outputs": [
        {
          "output_type": "stream",
          "name": "stdout",
          "text": [
            "[730, 709, 693, 712, 733, 751, 740]\n"
          ]
        }
      ]
    },
    {
      "cell_type": "code",
      "source": [
        "water_level = [730, 709, 693, 712, 733, 751, 740]\n",
        "water_level.append(772)\n",
        "print(water_level)\n"
      ],
      "metadata": {
        "colab": {
          "base_uri": "https://localhost:8080/"
        },
        "id": "ak8tFjFh8_fT",
        "outputId": "c3a52a3b-0020-4ff4-f6b4-33f1b95b48ed"
      },
      "execution_count": null,
      "outputs": [
        {
          "output_type": "stream",
          "name": "stdout",
          "text": [
            "[730, 709, 693, 712, 733, 751, 740, 772]\n"
          ]
        }
      ]
    },
    {
      "cell_type": "markdown",
      "source": [],
      "metadata": {
        "id": "Cxa5Mxj1_Qye"
      }
    },
    {
      "cell_type": "code",
      "source": [
        "water_level = [730, 709, 682, 712, 733, 751, 740,772]\n",
        "water_level.extend([772,770,7745])\n",
        "print(water_level )"
      ],
      "metadata": {
        "colab": {
          "base_uri": "https://localhost:8080/"
        },
        "id": "br0Usdwi9Xa1",
        "outputId": "d2ec30d9-f80a-4423-b13b-6b25b6c9d9b3"
      },
      "execution_count": null,
      "outputs": [
        {
          "output_type": "stream",
          "name": "stdout",
          "text": [
            "[730, 709, 682, 712, 733, 751, 740, 772, 772, 770, 7745]\n"
          ]
        }
      ]
    },
    {
      "cell_type": "markdown",
      "source": [],
      "metadata": {
        "id": "8G2NoqFW-KJH"
      }
    },
    {
      "cell_type": "code",
      "source": [
        "water_level = [730, 709, 682, 712, 733, 751, 740]\n",
        "water_level.pop(0)\n",
        "print(water_level)\n",
        "water_level.remove(709)\n",
        "print(water_level)"
      ],
      "metadata": {
        "colab": {
          "base_uri": "https://localhost:8080/"
        },
        "id": "Mjtqss3h-bTH",
        "outputId": "15e85e61-ac4d-49aa-98d1-0d7f249a3ce7"
      },
      "execution_count": null,
      "outputs": [
        {
          "output_type": "stream",
          "name": "stdout",
          "text": [
            "[709, 682, 712, 733, 751, 740]\n",
            "[682, 712, 733, 751, 740]\n"
          ]
        }
      ]
    },
    {
      "cell_type": "code",
      "source": [
        "color=(\"red\",\"green\",\"blue\")\n",
        "print(color[1])"
      ],
      "metadata": {
        "colab": {
          "base_uri": "https://localhost:8080/"
        },
        "id": "ozSKH9IO-i80",
        "outputId": "9d7faa94-8b7e-49c4-ffae-1ef6538b0603"
      },
      "execution_count": null,
      "outputs": [
        {
          "output_type": "stream",
          "name": "stdout",
          "text": [
            "green\n"
          ]
        }
      ]
    },
    {
      "cell_type": "code",
      "source": [
        "water_level = (730, 709, 682, 712, 733, 751, 740)\n",
        "water_level.pop()\n",
        "print(water_level)"
      ],
      "metadata": {
        "colab": {
          "base_uri": "https://localhost:8080/",
          "height": 176
        },
        "id": "aCCtc8lVDeVY",
        "outputId": "cc2ceb6f-43c3-4a9a-a332-cf7e2fde01c3"
      },
      "execution_count": null,
      "outputs": [
        {
          "output_type": "error",
          "ename": "AttributeError",
          "evalue": "'tuple' object has no attribute 'pop'",
          "traceback": [
            "\u001b[0;31m---------------------------------------------------------------------------\u001b[0m",
            "\u001b[0;31mAttributeError\u001b[0m                            Traceback (most recent call last)",
            "\u001b[0;32m<ipython-input-32-3c8bc736a741>\u001b[0m in \u001b[0;36m<cell line: 2>\u001b[0;34m()\u001b[0m\n\u001b[1;32m      1\u001b[0m \u001b[0mwater_level\u001b[0m \u001b[0;34m=\u001b[0m \u001b[0;34m(\u001b[0m\u001b[0;36m730\u001b[0m\u001b[0;34m,\u001b[0m \u001b[0;36m709\u001b[0m\u001b[0;34m,\u001b[0m \u001b[0;36m682\u001b[0m\u001b[0;34m,\u001b[0m \u001b[0;36m712\u001b[0m\u001b[0;34m,\u001b[0m \u001b[0;36m733\u001b[0m\u001b[0;34m,\u001b[0m \u001b[0;36m751\u001b[0m\u001b[0;34m,\u001b[0m \u001b[0;36m740\u001b[0m\u001b[0;34m)\u001b[0m\u001b[0;34m\u001b[0m\u001b[0;34m\u001b[0m\u001b[0m\n\u001b[0;32m----> 2\u001b[0;31m \u001b[0mwater_level\u001b[0m\u001b[0;34m.\u001b[0m\u001b[0mpop\u001b[0m\u001b[0;34m(\u001b[0m\u001b[0;34m)\u001b[0m\u001b[0;34m\u001b[0m\u001b[0;34m\u001b[0m\u001b[0m\n\u001b[0m\u001b[1;32m      3\u001b[0m \u001b[0mprint\u001b[0m\u001b[0;34m(\u001b[0m\u001b[0mwater_level\u001b[0m\u001b[0;34m)\u001b[0m\u001b[0;34m\u001b[0m\u001b[0;34m\u001b[0m\u001b[0m\n",
            "\u001b[0;31mAttributeError\u001b[0m: 'tuple' object has no attribute 'pop'"
          ]
        }
      ]
    },
    {
      "cell_type": "code",
      "source": [],
      "metadata": {
        "id": "IMhETn7PERdM"
      },
      "execution_count": null,
      "outputs": []
    },
    {
      "cell_type": "code",
      "source": [
        "numbers = (1, 2, 3, 4, 5)\n",
        "print(numbers[1:4])\n",
        "print(numbers[::-1])"
      ],
      "metadata": {
        "colab": {
          "base_uri": "https://localhost:8080/"
        },
        "id": "fu7PCDA-EREc",
        "outputId": "bc0814d1-5230-44fd-a922-344e51a64b5a"
      },
      "execution_count": null,
      "outputs": [
        {
          "output_type": "stream",
          "name": "stdout",
          "text": [
            "(2, 3, 4)\n",
            "(5, 4, 3, 2, 1)\n"
          ]
        }
      ]
    },
    {
      "cell_type": "code",
      "source": [
        "fruits=(\"apple\",\"banana\")\n",
        "berries=(\"strawberry\",\"blueberry\")\n",
        "combine_fruits=fruits+berries\n",
        "print(combine_fruits)\n",
        "print(combine_fruits*3)\n"
      ],
      "metadata": {
        "colab": {
          "base_uri": "https://localhost:8080/"
        },
        "id": "JLBEPb2rEDNY",
        "outputId": "b26beb9e-030b-441e-de5c-ee963544332a"
      },
      "execution_count": null,
      "outputs": [
        {
          "output_type": "stream",
          "name": "stdout",
          "text": [
            "('apple', 'banana', 'strawberry', 'blueberry')\n",
            "('apple', 'banana', 'strawberry', 'blueberry', 'apple', 'banana', 'strawberry', 'blueberry', 'apple', 'banana', 'strawberry', 'blueberry')\n"
          ]
        }
      ]
    },
    {
      "cell_type": "code",
      "source": [
        "grades=(90,85,92,88,95)\n",
        "print(grades.count(88))\n",
        "print(grades.index(92))"
      ],
      "metadata": {
        "colab": {
          "base_uri": "https://localhost:8080/"
        },
        "id": "gzPBA1d_JIgO",
        "outputId": "3694e529-90b1-4584-fd0c-58d6c74a6258"
      },
      "execution_count": null,
      "outputs": [
        {
          "output_type": "stream",
          "name": "stdout",
          "text": [
            "1\n",
            "2\n"
          ]
        }
      ]
    },
    {
      "cell_type": "code",
      "source": [
        "mixed_types=(\"apple\",42,3.14)\n",
        "print(mixed_types[1])"
      ],
      "metadata": {
        "colab": {
          "base_uri": "https://localhost:8080/"
        },
        "id": "9aZ1S_cSJ-Mf",
        "outputId": "5de0f32b-0a13-4f29-b952-f0335f82fe11"
      },
      "execution_count": null,
      "outputs": [
        {
          "output_type": "stream",
          "name": "stdout",
          "text": [
            "42\n"
          ]
        }
      ]
    },
    {
      "cell_type": "code",
      "source": [],
      "metadata": {
        "id": "8hTkKPRKLml3"
      },
      "execution_count": null,
      "outputs": []
    },
    {
      "cell_type": "code",
      "source": [
        "lis=[\"cat\", \"dog\", \"rabbit\"]\n",
        "y=list(lis)\n",
        "animals=tuple(y)\n",
        "print(animals)"
      ],
      "metadata": {
        "colab": {
          "base_uri": "https://localhost:8080/"
        },
        "id": "XphJCQV5LO1c",
        "outputId": "64d73e63-b699-41a5-e461-11c13754853b"
      },
      "execution_count": null,
      "outputs": [
        {
          "output_type": "stream",
          "name": "stdout",
          "text": [
            "('cat', 'dog', 'rabbit')\n"
          ]
        }
      ]
    },
    {
      "cell_type": "code",
      "source": [
        "outer_tuple=(\"animals\",(\"red\",\"green\",\"yellow\"))\n",
        "print(outer_tuple[1][1])"
      ],
      "metadata": {
        "colab": {
          "base_uri": "https://localhost:8080/"
        },
        "id": "GGxOTcORMbBO",
        "outputId": "fe17127c-e4af-45bc-aea0-f2c8291c35a9"
      },
      "execution_count": null,
      "outputs": [
        {
          "output_type": "stream",
          "name": "stdout",
          "text": [
            "green\n"
          ]
        }
      ]
    },
    {
      "cell_type": "markdown",
      "source": [],
      "metadata": {
        "id": "lE-rm50ZLklZ"
      }
    },
    {
      "cell_type": "markdown",
      "source": [],
      "metadata": {
        "id": "hdhPeVUmMywy"
      }
    },
    {
      "cell_type": "markdown",
      "source": [],
      "metadata": {
        "id": "Q7A1QRNAMybw"
      }
    },
    {
      "cell_type": "code",
      "source": [],
      "metadata": {
        "id": "tZdnzAz8N02S"
      },
      "execution_count": null,
      "outputs": []
    }
  ]
}