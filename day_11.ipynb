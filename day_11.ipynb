{
  "nbformat": 4,
  "nbformat_minor": 0,
  "metadata": {
    "colab": {
      "provenance": [],
      "authorship_tag": "ABX9TyPWBErLDnS7b/JQx7O0kHIa",
      "include_colab_link": true
    },
    "kernelspec": {
      "name": "python3",
      "display_name": "Python 3"
    },
    "language_info": {
      "name": "python"
    }
  },
  "cells": [
    {
      "cell_type": "markdown",
      "metadata": {
        "id": "view-in-github",
        "colab_type": "text"
      },
      "source": [
        "<a href=\"https://colab.research.google.com/github/Nitingarg01/Daily-dairy/blob/main/day_11.ipynb\" target=\"_parent\"><img src=\"https://colab.research.google.com/assets/colab-badge.svg\" alt=\"Open In Colab\"/></a>"
      ]
    },
    {
      "cell_type": "markdown",
      "source": [
        "Practice Questions based on datetime module\n",
        "1. *Event Reminder Application*\n",
        "   - Your task is to create an event reminder application. The application should accept the event name and event date (in YYYY-MM-DD format) from the user and calculate how many days are left until the event.\n"
      ],
      "metadata": {
        "id": "92M3cbmZkbdK"
      }
    },
    {
      "cell_type": "code",
      "execution_count": 11,
      "metadata": {
        "colab": {
          "base_uri": "https://localhost:8080/"
        },
        "id": "-QKN1PamkFwK",
        "outputId": "9b0237cd-a6ba-4d9e-9dee-206abcd1fee9"
      },
      "outputs": [
        {
          "output_type": "stream",
          "name": "stdout",
          "text": [
            "enter event name nitin\n",
            "enter the year2026\n",
            "enter the month5\n",
            "enter the day2\n",
            "683\n"
          ]
        }
      ],
      "source": [
        "import datetime\n",
        "event_name=input(\"enter event name \")\n",
        "year=int(input(\"enter the year\"))\n",
        "month=int(input(\"enter the month\"))\n",
        "day=int(input(\"enter the day\"))\n",
        "\n",
        "def day_left1():\n",
        "  event_date=datetime.date(year,month,day)\n",
        "  today_date=datetime.date.today()\n",
        "  day_left=event_date-today_date\n",
        "  print(day_left.days)\n",
        "day_left1()"
      ]
    },
    {
      "cell_type": "code",
      "source": [
        "import datetime\n",
        "\n",
        "event_name = input(\"Enter event name: \")\n",
        "year = int(input(\"Enter the year: \"))\n",
        "month = int(input(\"Enter the month: \"))\n",
        "day = int(input(\"Enter the day: \"))\n",
        "\n",
        "def days_left():\n",
        "    event_date = datetime.date(year, month, day)\n",
        "    today_date = datetime.date.today()\n",
        "    days_left = event_date - today_date\n",
        "    print(f\"Days left until {event_name}: {days_left.days}\")\n",
        "\n",
        "days_left()\n"
      ],
      "metadata": {
        "colab": {
          "base_uri": "https://localhost:8080/"
        },
        "id": "HpGaFM_Ronrn",
        "outputId": "b75fd511-90d0-4d9d-8720-fdc6692a5b13"
      },
      "execution_count": 7,
      "outputs": [
        {
          "output_type": "stream",
          "name": "stdout",
          "text": [
            "Enter event name: nitn\n",
            "Enter the year: 2026\n",
            "Enter the month: 5\n",
            "Enter the day: 8\n",
            "Days left until nitn: 689\n"
          ]
        }
      ]
    },
    {
      "cell_type": "markdown",
      "source": [],
      "metadata": {
        "id": "7EQHpU-IqsqM"
      }
    },
    {
      "cell_type": "code",
      "source": [],
      "metadata": {
        "id": "NOH20JAvrCjH"
      },
      "execution_count": null,
      "outputs": []
    },
    {
      "cell_type": "markdown",
      "source": [
        " *Time Duration Calculation*\n",
        "   - Write a program that asks the user to input two times (start time and end time) in HH:MM:SS format. Calculate and print the duration between these two times in hours, minutes, and seconds.\n"
      ],
      "metadata": {
        "id": "EbE7c6OnscjV"
      }
    },
    {
      "cell_type": "code",
      "source": [],
      "metadata": {
        "id": "rWjNJL-qtXRn"
      },
      "execution_count": null,
      "outputs": []
    },
    {
      "cell_type": "code",
      "source": [
        "import datetime\n",
        "\n",
        "class Time:\n",
        "    def input(self):\n",
        "        self.hour = int(input(\"Enter the hour: \"))\n",
        "        self.minute = int(input(\"Enter the minute: \"))\n",
        "        self.second = int(input(\"Enter the second: \"))\n",
        "\n",
        "    def to_timedelta(self):\n",
        "        return datetime.timedelta(hours=self.hour, minutes=self.minute, seconds=self.second)\n",
        "\n",
        "    @staticmethod\n",
        "    def calculate_time(t1, t2):\n",
        "        time_difference = t2 - t1\n",
        "        print(\"Time difference:\", time_difference)\n",
        "\n",
        "# Create instances of Time\n",
        "d1 = Time()\n",
        "d2 = Time()\n",
        "\n",
        "# Get input for both instances\n",
        "d1.input()\n",
        "d2.input()\n",
        "\n",
        "# Convert to timedelta\n",
        "t1 = d1.to_timedelta()\n",
        "t2 = d2.to_timedelta()\n",
        "\n",
        "# Calculate the time difference\n",
        "Time.calculate_time(t1, t2)\n",
        "\n",
        "\n",
        "\n"
      ],
      "metadata": {
        "colab": {
          "base_uri": "https://localhost:8080/"
        },
        "id": "dLVageF2s6r3",
        "outputId": "2a5e4f41-4fd7-4709-8b4e-9bd25ba9c640"
      },
      "execution_count": 19,
      "outputs": [
        {
          "output_type": "stream",
          "name": "stdout",
          "text": [
            "Enter the hour: 20\n",
            "Enter the minute: 5\n",
            "Enter the second: 5\n",
            "Enter the hour: 20\n",
            "Enter the minute: 5\n",
            "Enter the second: 5\n",
            "Time difference: 0:00:00\n"
          ]
        }
      ]
    },
    {
      "cell_type": "markdown",
      "source": [],
      "metadata": {
        "id": "Ezf0RyL7rCT6"
      }
    }
  ]
}