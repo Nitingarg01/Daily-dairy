{
  "nbformat": 4,
  "nbformat_minor": 0,
  "metadata": {
    "colab": {
      "provenance": [],
      "authorship_tag": "ABX9TyNQiC5Vld0sA3ttSve9pAvu",
      "include_colab_link": true
    },
    "kernelspec": {
      "name": "python3",
      "display_name": "Python 3"
    },
    "language_info": {
      "name": "python"
    }
  },
  "cells": [
    {
      "cell_type": "markdown",
      "metadata": {
        "id": "view-in-github",
        "colab_type": "text"
      },
      "source": [
        "<a href=\"https://colab.research.google.com/github/Nitingarg01/Daily-dairy/blob/main/day_10.ipynb\" target=\"_parent\"><img src=\"https://colab.research.google.com/assets/colab-badge.svg\" alt=\"Open In Colab\"/></a>"
      ]
    },
    {
      "cell_type": "markdown",
      "source": [],
      "metadata": {
        "id": "HkDKKj5LZnkP"
      }
    },
    {
      "cell_type": "markdown",
      "source": [
        "ATM Withdrawal: Write a function that simulates an ATM withdrawal. The function should check if the account balance is sufficient for the withdrawal amount and raise an exception if not. Handle scenarios where the input withdrawal amount is not a number or is negative."
      ],
      "metadata": {
        "id": "axkPRsCKZnfw"
      }
    },
    {
      "cell_type": "code",
      "execution_count": null,
      "metadata": {
        "colab": {
          "base_uri": "https://localhost:8080/"
        },
        "id": "sNSOzokeVyB0",
        "outputId": "dea4bf0d-479d-4125-b15f-9a9de66d9365"
      },
      "outputs": [
        {
          "output_type": "stream",
          "name": "stdout",
          "text": [
            "Successfully withdrew $150.00. Remaining balance: $4850.00.\n",
            "Error: could not convert string to float: 'abc'\n",
            "Error: Withdrawal amount must be positive.\n",
            "Error: Insufficient balance for the withdrawal.\n"
          ]
        }
      ],
      "source": [
        "def atm_withdrawal(balance, amount):\n",
        "    try:\n",
        "        amount = float(amount)  # Convert to float to handle both integers and floats\n",
        "        if amount <= 0:\n",
        "            raise ValueError(\"Withdrawal amount must be positive.\")\n",
        "        if amount >= balance:\n",
        "            raise ValueError(\"Insufficient balance for the withdrawal.\")\n",
        "\n",
        "        balance -= amount\n",
        "        print(f\"Successfully withdrew ${amount:.2f}. Remaining balance: ${balance:.2f}.\")\n",
        "        return balance\n",
        "\n",
        "    except ValueError as e:\n",
        "        print(f\"Error: {e}\")\n",
        "\n",
        "# Example usage\n",
        "\n",
        "\n",
        "atm_withdrawal(5000, 150)  # Successful withdrawal\n",
        "atm_withdrawal(500, \"abc\")  # Invalid input\n",
        "atm_withdrawal(450, -50)  # Invalid amount\n",
        "atm_withdrawal(300, 400)  # Insufficient balance\n"
      ]
    },
    {
      "cell_type": "markdown",
      "source": [
        "User Login System: Create a function that simulates a user login system. It should raise an exception if the username or password is incorrect and handle cases where the input values are empty strings."
      ],
      "metadata": {
        "id": "0CPLWrpwfNL8"
      }
    },
    {
      "cell_type": "code",
      "source": [
        "def check(username, password):\n",
        "  try:\n",
        "    user=input(\"Enter the username: \")\n",
        "    password1=input(\"Enter the password: \")\n",
        "    if username == \"\" or password == \"\":\n",
        "        raise ValueError(\"Username or password cannot be empty\")\n",
        "    if(username==user and password1==password):\n",
        "      print(\"Correct password\")\n",
        "    else:\n",
        "      raise ValueError(\"Incorrect username or password\")\n",
        "  except ValueError as e:\n",
        "    print(e)\n",
        "check(\"mehak\", 123)"
      ],
      "metadata": {
        "colab": {
          "base_uri": "https://localhost:8080/"
        },
        "id": "laxFl8IAg9X4",
        "outputId": "27334bc3-6ce2-4046-c2bf-1c5b597843da"
      },
      "execution_count": null,
      "outputs": [
        {
          "output_type": "stream",
          "name": "stdout",
          "text": [
            "Enter the username: \n",
            "Enter the password: \n",
            "Username or password cannot be empty\n"
          ]
        }
      ]
    },
    {
      "cell_type": "markdown",
      "source": [
        "Online Shopping Cart: Write a function that adds items to an online shopping cart. Handle scenarios where the item is out of stock, the item ID is invalid, or the quantity requested is more than the available stock."
      ],
      "metadata": {
        "id": "i5uM8C4zhTZW"
      }
    },
    {
      "cell_type": "code",
      "source": [
        "def add_items(items):\n",
        "  cart={}\n",
        "  if cart"
      ],
      "metadata": {
        "id": "9GxpNt23hZZ-"
      },
      "execution_count": null,
      "outputs": []
    },
    {
      "cell_type": "code",
      "source": [
        "import random\n",
        "\n",
        "def get_user_choice():\n",
        "    user_choice = input(\"Enter your choice (rock, paper, scissors): \").lower()\n",
        "    while user_choice not in [\"rock\", \"paper\", \"scissors\"]:\n",
        "        user_choice = input(\"Invalid choice. Please enter rock, paper, or scissors: \").lower()\n",
        "    return user_choice\n",
        "\n",
        "def get_computer_choice():\n",
        "    return random.choice([\"rock\", \"paper\", \"scissors\"])\n",
        "\n",
        "def determine_winner(user_choice, computer_choice):\n",
        "    if user_choice == computer_choice:\n",
        "        return \"It's a tie!\"\n",
        "    elif (user_choice == \"rock\" and computer_choice == \"scissors\") or \\\n",
        "         (user_choice == \"paper\" and computer_choice == \"rock\") or \\\n",
        "         (user_choice == \"scissors\" and computer_choice == \"paper\"):\n",
        "        return \"You win!\"\n",
        "    else:\n",
        "        return \"You lose!\"\n",
        "\n",
        "def play_game():\n",
        "    user_choice = get_user_choice()\n",
        "    computer_choice = get_computer_choice()\n",
        "    print(f\"\\nYou chose: {user_choice}\")\n",
        "    print(f\"Computer chose: {computer_choice}\")\n",
        "    result = determine_winner(user_choice, computer_choice)\n",
        "    print(result)\n",
        "play_game()"
      ],
      "metadata": {
        "colab": {
          "base_uri": "https://localhost:8080/"
        },
        "id": "3zJhRraCtzDx",
        "outputId": "3e472c7a-9a09-4cbd-c76d-f43cd845e908"
      },
      "execution_count": null,
      "outputs": [
        {
          "output_type": "stream",
          "name": "stdout",
          "text": [
            "Enter your choice (rock, paper, scissors): paper\n",
            "\n",
            "You chose: paper\n",
            "Computer chose: rock\n",
            "You win!\n"
          ]
        }
      ]
    },
    {
      "cell_type": "code",
      "source": [
        "import random\n",
        "\n",
        "def play_game():\n",
        "    choices = [\"rock\", \"paper\", \"scissors\"]\n",
        "\n",
        "    user_choice = input(\"Enter your choice (rock, paper, scissors): \").lower()\n",
        "    while user_choice not in choices:\n",
        "        user_choice = input(\"Invalid choice. Please enter rock, paper, or scissors: \").lower()\n",
        "\n",
        "    computer_choice = random.choice(choices)\n",
        "\n",
        "    print(f\"\\nYou chose: {user_choice}\")\n",
        "    print(f\"Computer chose: {computer_choice}\")\n",
        "\n",
        "    if user_choice == computer_choice:\n",
        "        result = \"It's a tie!\"\n",
        "    elif (user_choice == \"rock\" and computer_choice == \"scissors\") or \\\n",
        "         (user_choice == \"paper\" and computer_choice == \"rock\") or \\\n",
        "         (user_choice == \"scissors\" and computer_choice == \"paper\"):\n",
        "        result = \"You win!\"\n",
        "    else:\n",
        "        result = \"You lose!\"\n",
        "\n",
        "    print(result)\n",
        "\n",
        "if __name__ == \"__main__\":\n",
        "    play_game()\n"
      ],
      "metadata": {
        "colab": {
          "base_uri": "https://localhost:8080/"
        },
        "id": "gqkUsXhdvuIX",
        "outputId": "d28c4f6f-67e9-4d51-92ea-241d689ec4ab"
      },
      "execution_count": null,
      "outputs": [
        {
          "output_type": "stream",
          "name": "stdout",
          "text": [
            "Enter your choice (rock, paper, scissors): rock\n",
            "\n",
            "You chose: rock\n",
            "Computer chose: rock\n",
            "It's a tie!\n"
          ]
        }
      ]
    }
  ]
}