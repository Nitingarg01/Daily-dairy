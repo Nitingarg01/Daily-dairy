{
  "nbformat": 4,
  "nbformat_minor": 0,
  "metadata": {
    "colab": {
      "provenance": [],
      "authorship_tag": "ABX9TyMK9Ctcv30BcoG+RQvux2DF",
      "include_colab_link": true
    },
    "kernelspec": {
      "name": "python3",
      "display_name": "Python 3"
    },
    "language_info": {
      "name": "python"
    }
  },
  "cells": [
    {
      "cell_type": "markdown",
      "metadata": {
        "id": "view-in-github",
        "colab_type": "text"
      },
      "source": [
        "<a href=\"https://colab.research.google.com/github/Nitingarg01/Daily-dairy/blob/main/day_8.ipynb\" target=\"_parent\"><img src=\"https://colab.research.google.com/assets/colab-badge.svg\" alt=\"Open In Colab\"/></a>"
      ]
    },
    {
      "cell_type": "code",
      "execution_count": null,
      "metadata": {
        "id": "I4RLtP1yBz-s",
        "colab": {
          "base_uri": "https://localhost:8080/"
        },
        "outputId": "2f2716a6-9ade-40d4-c958-691475a7323a"
      },
      "outputs": [
        {
          "output_type": "stream",
          "name": "stdout",
          "text": [
            "print its not a negative\n"
          ]
        }
      ],
      "source": [
        "class bankaccount:\n",
        "  def __init__(self,account_number,account_holder,balance):\n",
        "    self.__account_number=account_number\n",
        "    self.__account_holder=account_holder\n",
        "    self.__balance=balance\n",
        "  def set_balance(self):\n",
        "    if self.__balance>=0:\n",
        "      print(\"print its not a negative\")\n",
        "    else:\n",
        "      print(\"its a negative\")\n",
        "obj=bankaccount(9,\"nitin\",200)\n",
        "obj.set_balance()\n",
        "\n",
        "\n"
      ]
    },
    {
      "cell_type": "markdown",
      "source": [
        "Practice Question:                                                                                                                                                         Question 1: Library Management System\n",
        "Scenario: You are tasked with developing a library management system where users can borrow and return books.\n",
        "\n",
        "Requirements:\n",
        "\n",
        "Create a Book class that has the following private attributes: title, author, and isbn.\n",
        "Implement methods to get and set the values of these attributes (getters and setters).\n",
        "Create a Library class that has a list of Book objects.\n",
        "Implement methods to add a new book, remove a book by its ISBN, and list all available books.\n",
        "Use encapsulation to ensure that the books can only be manipulated through the Library class.\n",
        "Task:\n",
        "\n",
        "Implement the Book and Library classes with proper encapsulation.\n",
        "Add methods to add, remove, and list books in the library.\n"
      ],
      "metadata": {
        "id": "a2z4IzI_YVYl"
      }
    },
    {
      "cell_type": "code",
      "source": [
        "class book:\n",
        "  def __init__(self,title,author,isbn):\n",
        "    self.__title=title\n",
        "    self.__auhtor=author\n",
        "    self.__isbn=isbn\n",
        "class library:\n"
      ],
      "metadata": {
        "id": "8T-lxKNXbm2D"
      },
      "execution_count": null,
      "outputs": []
    }
  ]
}