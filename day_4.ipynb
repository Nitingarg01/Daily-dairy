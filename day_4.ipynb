{
  "nbformat": 4,
  "nbformat_minor": 0,
  "metadata": {
    "colab": {
      "provenance": [],
      "authorship_tag": "ABX9TyPqy1EWo7cGYQGC2USwTqWV",
      "include_colab_link": true
    },
    "kernelspec": {
      "name": "python3",
      "display_name": "Python 3"
    },
    "language_info": {
      "name": "python"
    }
  },
  "cells": [
    {
      "cell_type": "markdown",
      "metadata": {
        "id": "view-in-github",
        "colab_type": "text"
      },
      "source": [
        "<a href=\"https://colab.research.google.com/github/Nitingarg01/Daily-dairy/blob/main/day_4.ipynb\" target=\"_parent\"><img src=\"https://colab.research.google.com/assets/colab-badge.svg\" alt=\"Open In Colab\"/></a>"
      ]
    },
    {
      "cell_type": "markdown",
      "source": [
        "day 4 today i learn basic of string in python"
      ],
      "metadata": {
        "id": "vKTNI_C-k_AN"
      }
    },
    {
      "cell_type": "code",
      "execution_count": null,
      "metadata": {
        "colab": {
          "base_uri": "https://localhost:8080/"
        },
        "id": "iIPLqJnyPKxS",
        "outputId": "653bcfe4-d052-4c85-be36-63897689b388"
      },
      "outputs": [
        {
          "output_type": "stream",
          "name": "stdout",
          "text": [
            "132856665170672\n",
            "<class 'str'>\n",
            "5\n",
            "NITIN\n"
          ]
        }
      ],
      "source": [
        "name=\"nitin\"\n",
        "print(id(name))\n",
        "print(type(name))\n",
        "print(len(name))\n",
        "print(name.upper())\n"
      ]
    },
    {
      "cell_type": "markdown",
      "source": [
        " 1. String Manipulation:\n",
        " Write a Python program that reverses a given string.\n",
        " Given a string, write a function to count the number of vowels in it.\n",
        " Write a program to check if a string is a palindrome.\n",
        " Implement a function to capitalize the rst letter of each word in a sentence"
      ],
      "metadata": {
        "id": "BsCH-hNUVfTP"
      }
    },
    {
      "cell_type": "code",
      "source": [
        "string=\"komal\"\n",
        "y=string[::-1]\n",
        "print(y)\n",
        "if y==string:\n",
        "  print(string,\"is a palindrome number\")\n",
        "else:\n",
        "  print(\"its not a palindrome\")\n",
        "print(string.capitalize(),\"string in is in first capital letter\")\n",
        "\n"
      ],
      "metadata": {
        "colab": {
          "base_uri": "https://localhost:8080/"
        },
        "id": "qlkMir5dVg7a",
        "outputId": "5c799b0a-cfc2-491a-d26e-1b25b5ee54a9"
      },
      "execution_count": null,
      "outputs": [
        {
          "output_type": "stream",
          "name": "stdout",
          "text": [
            "lamok\n",
            "its not a palindrome\n",
            "Komal string in is in first capital letter\n"
          ]
        }
      ]
    },
    {
      "cell_type": "markdown",
      "source": [
        "String Formatting:\n",
        " Create a formatted string using f-strings that includes variables and their values.\n",
        " Write a program to left-align a list of strings with a speci ed width.\n",
        " Given a list of names, format them into a bulleted list using string concatenation or join\n",
        " method"
      ],
      "metadata": {
        "id": "jYIlgaKaYvUb"
      }
    },
    {
      "cell_type": "code",
      "source": [
        "name = \"Alice\"\n",
        "age = 30\n",
        "city = \"New York\"\n",
        "\n",
        "formatted_string = f\"Name: {name}, Age: {age}, City: {city}\"\n",
        "print(formatted_string)\n",
        "strings =\"apple\\tbanana\\tcherry\\t date\"\n",
        "Y=strings.expandtabs(8)\n",
        "print(Y)\n",
        "names = [\"Alice\", \"Bob\", \"Charlie\", \"Diana\"]\n",
        "\n",
        "bulleted_list = \"\\n\".join(f\"* {name}\" for name in names)\n",
        "print(bulleted_list)\n",
        "\n"
      ],
      "metadata": {
        "colab": {
          "base_uri": "https://localhost:8080/"
        },
        "id": "-wRN56sjaHLZ",
        "outputId": "bc24ef60-e39e-404b-e806-04c53dc667e3"
      },
      "execution_count": 20,
      "outputs": [
        {
          "output_type": "stream",
          "name": "stdout",
          "text": [
            "Name: Alice, Age: 30, City: New York\n",
            "apple   banana  cherry   date\n",
            "* Alice\n",
            "* Bob\n",
            "* Charlie\n",
            "* Diana\n"
          ]
        }
      ]
    },
    {
      "cell_type": "markdown",
      "source": [],
      "metadata": {
        "id": "Mjp3knZVdjEf"
      }
    },
    {
      "cell_type": "code",
      "source": [
        "s = \"   Hello, World!   \"\n",
        "cleaned_string = s.strip()\n",
        "print(\"String without leading and trailing whitespaces:\", cleaned_string)\n"
      ],
      "metadata": {
        "id": "JEE0y69EahcN",
        "colab": {
          "base_uri": "https://localhost:8080/"
        },
        "outputId": "15b3590d-0640-461d-8446-d29a3d498f13"
      },
      "execution_count": 21,
      "outputs": [
        {
          "output_type": "stream",
          "name": "stdout",
          "text": [
            "String without leading and trailing whitespaces: Hello, World!\n"
          ]
        }
      ]
    },
    {
      "cell_type": "code",
      "source": [
        "main_string = \"Hello, welcome to the world of Python.\"\n",
        "substring = \"welcome\"\n",
        "index = main_string.find(substring)\n",
        "print(f\"The first occurrence of '{substring}' is at index {index}\")\n",
        "paragraph = \"This is a test. This test is only a test.\"\n",
        "word = \"test\"\n",
        "words = paragraph.split()\n",
        "count = words.count(word)\n",
        "print(f\"The word '{word}' occurs {count} times in the paragraph.\")\n",
        "sentence = \"This is an example sentence with several words.\"\n",
        "words = sentence.split()\n",
        "last_three_words = ' '.join(words[-3:])\n",
        "print(\"Last three words:\", last_three_words)\n",
        "\n"
      ],
      "metadata": {
        "colab": {
          "base_uri": "https://localhost:8080/"
        },
        "id": "xheHvYT2hcOi",
        "outputId": "1b28e0c5-71e7-4738-90d9-0cf97e4855fc"
      },
      "execution_count": 23,
      "outputs": [
        {
          "output_type": "stream",
          "name": "stdout",
          "text": [
            "The first occurrence of 'welcome' is at index 7\n",
            "The word 'test' occurs 1 times in the paragraph.\n",
            "Last three words: with several words.\n"
          ]
        }
      ]
    },
    {
      "cell_type": "code",
      "source": [
        "string1 = \"Hello\"\n",
        "string2 = \"World\"\n",
        "concatenated_string = string1 + \" \" + string2\n",
        "print(\"Concatenated string:\", concatenated_string)\n",
        "\n",
        "s = \"   Hello, World!   \"\n",
        "cleaned_string = s.strip()\n",
        "print(\"String without leading and trailing whitespaces:\", cleaned_string)\n",
        "import re\n",
        "\n",
        "text = \"Please contact us at support@example.com or sales@example.co.uk for more information.\"\n",
        "email_pattern = r'[a-zA-Z0-9._%+-]+@[a-zA-Z0-9.-]+\\.[a-zA-Z]{2,}'\n",
        "emails = re.findall(email_pattern, text)\n",
        "print(\"Extracted emails:\", emails)\n"
      ],
      "metadata": {
        "colab": {
          "base_uri": "https://localhost:8080/"
        },
        "id": "Ud4_EQdViDEo",
        "outputId": "184f4c6e-9631-4810-a20f-e1d55882dfd6"
      },
      "execution_count": 25,
      "outputs": [
        {
          "output_type": "stream",
          "name": "stdout",
          "text": [
            "Concatenated string: Hello World\n",
            "String without leading and trailing whitespaces: Hello, World!\n",
            "Extracted emails: ['support@example.com', 'sales@example.co.uk']\n"
          ]
        }
      ]
    },
    {
      "cell_type": "markdown",
      "source": [],
      "metadata": {
        "id": "CxuFkdXnk9kQ"
      }
    },
    {
      "cell_type": "markdown",
      "source": [
        "Given a string containing a sentence, use a string method to convert the entire string to uppercase."
      ],
      "metadata": {
        "id": "rReBcRNuli15"
      }
    },
    {
      "cell_type": "code",
      "source": [
        "string=\"komal\"\n",
        "print(string.upper())"
      ],
      "metadata": {
        "colab": {
          "base_uri": "https://localhost:8080/"
        },
        "id": "5mja0gIGloJd",
        "outputId": "f6d7ced4-9579-48f0-9003-110fa32a49b6"
      },
      "execution_count": 27,
      "outputs": [
        {
          "output_type": "stream",
          "name": "stdout",
          "text": [
            "KOMAL\n"
          ]
        }
      ]
    },
    {
      "cell_type": "markdown",
      "source": [
        "You have a string with extra spaces at the beginning and end. Use a string method to remove these extra spaces"
      ],
      "metadata": {
        "id": "UVn3bNXFlyxq"
      }
    },
    {
      "cell_type": "code",
      "source": [
        "string=\"   komal   \"\n",
        "print(\"before\",string)\n",
        "s=string.strip()\n",
        "print(s)"
      ],
      "metadata": {
        "colab": {
          "base_uri": "https://localhost:8080/"
        },
        "id": "s5jmGthel2-C",
        "outputId": "c12e4d75-9a72-4302-cf26-4cf8d4f57538"
      },
      "execution_count": 30,
      "outputs": [
        {
          "output_type": "stream",
          "name": "stdout",
          "text": [
            "before    komal   \n",
            "komal\n"
          ]
        }
      ]
    },
    {
      "cell_type": "markdown",
      "source": [
        "You have a string with words separated by commas. Use a string method to split the string into a list of words.\n"
      ],
      "metadata": {
        "id": "jvhIW_A4oFQ3"
      }
    },
    {
      "cell_type": "code",
      "source": [
        "string=\"k,o,m,a,l\"\n",
        "y=string.split()\n",
        "print(y)"
      ],
      "metadata": {
        "colab": {
          "base_uri": "https://localhost:8080/"
        },
        "id": "hbmI2vkroGTG",
        "outputId": "4621d6f1-f657-456a-b359-594c428b6929"
      },
      "execution_count": 35,
      "outputs": [
        {
          "output_type": "stream",
          "name": "stdout",
          "text": [
            "['k,o,m,a,l']\n"
          ]
        }
      ]
    },
    {
      "cell_type": "markdown",
      "source": [
        " Given a string containing a sentence, replace all occurrences of the word \"Java\" with \"Python\".\n"
      ],
      "metadata": {
        "id": "eK3ANfoHrVYP"
      }
    },
    {
      "cell_type": "markdown",
      "source": [],
      "metadata": {
        "id": "fWe2pjdLoFCF"
      }
    },
    {
      "cell_type": "code",
      "source": [
        "string = \"java is bad language or\"\n",
        "subword = \"java\"\n",
        "replace = \"python\"\n",
        "\n",
        "# Find the index of the first occurrence of the subword\n",
        "y = string.find(subword)\n",
        "\n",
        "# Replace the subword with the new word\n",
        "if y != -1:\n",
        "    # Create a new string with the replacement\n",
        "    string = string[:y] + replace + string[y + len(subword):]\n",
        "\n",
        "print(string)\n"
      ],
      "metadata": {
        "colab": {
          "base_uri": "https://localhost:8080/"
        },
        "id": "zgUJly79n12e",
        "outputId": "192c00e6-6e35-4c54-8b14-97cf0e122a7b"
      },
      "execution_count": 39,
      "outputs": [
        {
          "output_type": "stream",
          "name": "stdout",
          "text": [
            "python is bad language or\n"
          ]
        }
      ]
    },
    {
      "cell_type": "markdown",
      "source": [
        "\n",
        "\n",
        "```\n",
        "# This is formatted as code\n",
        "```\n",
        "\n"
      ],
      "metadata": {
        "id": "YNmVBhKkag9D"
      }
    },
    {
      "cell_type": "markdown",
      "source": [],
      "metadata": {
        "id": "dWKPL2SDQpds"
      }
    },
    {
      "cell_type": "markdown",
      "source": [],
      "metadata": {
        "id": "eZybcCQOWMVp"
      }
    },
    {
      "cell_type": "markdown",
      "source": [],
      "metadata": {
        "id": "J1Cpf9DtYe1H"
      }
    }
  ]
}