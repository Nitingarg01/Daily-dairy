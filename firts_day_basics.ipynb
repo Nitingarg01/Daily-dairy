{
  "nbformat": 4,
  "nbformat_minor": 0,
  "metadata": {
    "colab": {
      "provenance": [],
      "authorship_tag": "ABX9TyNlM+CI8xyHqRrCRHM9xDrG",
      "include_colab_link": true
    },
    "kernelspec": {
      "name": "python3",
      "display_name": "Python 3"
    },
    "language_info": {
      "name": "python"
    }
  },
  "cells": [
    {
      "cell_type": "markdown",
      "metadata": {
        "id": "view-in-github",
        "colab_type": "text"
      },
      "source": [
        "<a href=\"https://colab.research.google.com/github/Nitingarg01/Daily-dairy/blob/main/firts_day_basics.ipynb\" target=\"_parent\"><img src=\"https://colab.research.google.com/assets/colab-badge.svg\" alt=\"Open In Colab\"/></a>"
      ]
    },
    {
      "cell_type": "markdown",
      "source": [
        "day 1 of training\n",
        "basic of python"
      ],
      "metadata": {
        "id": "zZuN3-q1A4px"
      }
    },
    {
      "cell_type": "code",
      "execution_count": null,
      "metadata": {
        "colab": {
          "base_uri": "https://localhost:8080/"
        },
        "id": "pcJ-iX-BzVFW",
        "outputId": "591668e3-e065-43a6-cd71-b881344448af"
      },
      "outputs": [
        {
          "output_type": "stream",
          "name": "stdout",
          "text": [
            "answer= 38.46153846153847 46.15384615384615 15.384615384615385\n"
          ]
        },
        {
          "output_type": "execute_result",
          "data": {
            "text/plain": [
              "False"
            ]
          },
          "metadata": {},
          "execution_count": 25
        }
      ],
      "source": [
        "raisin=50\n",
        "almonds=60\n",
        "apricots=20\n",
        "sum=raisin+almonds+apricots\n",
        "Percent_raisin=(raisin/sum)*100\n",
        "Percent_almonds=(almonds/sum)*100\n",
        "percent_apricots=(apricots/sum)*100\n",
        "print(\"answer=\",Percent_raisin,Percent_almonds,percent_apricots)\n"
      ]
    },
    {
      "cell_type": "markdown",
      "source": [],
      "metadata": {
        "id": "oDRea5pCA5cO"
      }
    },
    {
      "cell_type": "code",
      "source": [
        "lion_population=10\n",
        "new_lions=5\n",
        "lion_population=lion_population+new_lions\n",
        "print(lion_population)"
      ],
      "metadata": {
        "colab": {
          "base_uri": "https://localhost:8080/"
        },
        "id": "C7C0BBnKB9K4",
        "outputId": "86a05c4b-c889-4652-87fb-cb6bfdf3da0b"
      },
      "execution_count": null,
      "outputs": [
        {
          "output_type": "stream",
          "name": "stdout",
          "text": [
            "15\n"
          ]
        }
      ]
    },
    {
      "cell_type": "code",
      "source": [
        "temperature=25.5\n",
        "new_temperature=8\n",
        "temperature=temperature+new_temperature\n",
        "print(temperature,\"celcius\")"
      ],
      "metadata": {
        "colab": {
          "base_uri": "https://localhost:8080/"
        },
        "id": "aJBofbvfCeRo",
        "outputId": "78600e11-af4d-41d9-8c33-ae68b82c2c91"
      },
      "execution_count": null,
      "outputs": [
        {
          "output_type": "stream",
          "name": "stdout",
          "text": [
            "33.5 celcius\n"
          ]
        }
      ]
    },
    {
      "cell_type": "code",
      "source": [
        "plant_height=15\n",
        "new_height_after_week=2.5*7\n",
        "plant_height=plant_height+new_height_after_week\n",
        "print(plant_height,\"cm\")\n"
      ],
      "metadata": {
        "colab": {
          "base_uri": "https://localhost:8080/"
        },
        "id": "NR67fkHlDE0J",
        "outputId": "1e28fff0-07c3-47f3-d591-afe4686ff96e"
      },
      "execution_count": null,
      "outputs": [
        {
          "output_type": "stream",
          "name": "stdout",
          "text": [
            "32.5 cm\n"
          ]
        }
      ]
    },
    {
      "cell_type": "code",
      "source": [
        "intial_velocity=3000\n",
        "acceleration=500\n",
        "time=10\n",
        "final_velocity=intial_velocity+time*acceleration\n",
        "print(final_velocity,\"m/s\")"
      ],
      "metadata": {
        "colab": {
          "base_uri": "https://localhost:8080/"
        },
        "id": "xIIMJK7lDyVE",
        "outputId": "4bb9c440-2f0a-4f6b-a721-2a68431d0974"
      },
      "execution_count": null,
      "outputs": [
        {
          "output_type": "stream",
          "name": "stdout",
          "text": [
            "8000 m/s\n"
          ]
        }
      ]
    },
    {
      "cell_type": "code",
      "source": [
        "pizza_slices=8\n",
        "Friends=5\n",
        "no_of_slices_a_friend_can_have=pizza_slices//Friends\n",
        "print(no_of_slices_a_friend_can_have)"
      ],
      "metadata": {
        "colab": {
          "base_uri": "https://localhost:8080/"
        },
        "id": "KMeKQDPTE-p-",
        "outputId": "1179e831-1b07-4d2a-d893-fb2aac0f1773"
      },
      "execution_count": null,
      "outputs": [
        {
          "output_type": "stream",
          "name": "stdout",
          "text": [
            "1\n"
          ]
        }
      ]
    },
    {
      "cell_type": "code",
      "source": [
        "pendulum_length=1.2\n",
        "pi=3.14\n",
        "acceleration=9.81\n",
        "Time=2*pi*((pendulum_length/acceleration)**0.5)\n",
        "print(Time)"
      ],
      "metadata": {
        "colab": {
          "base_uri": "https://localhost:8080/"
        },
        "id": "OSb5cyd5F3V2",
        "outputId": "e90855a9-f590-4b52-acc0-5c9003242ecd"
      },
      "execution_count": null,
      "outputs": [
        {
          "output_type": "stream",
          "name": "stdout",
          "text": [
            "2.196421888697581\n"
          ]
        }
      ]
    },
    {
      "cell_type": "code",
      "source": [
        "BUG_COUNT=100\n",
        "BUG_FIXED=35\n",
        "BUG_COUNT=BUG_COUNT-BUG_FIXED\n",
        "print(BUG_COUNT)"
      ],
      "metadata": {
        "colab": {
          "base_uri": "https://localhost:8080/"
        },
        "id": "LghSfE3hH6J8",
        "outputId": "107a905b-de7f-4ced-9735-e19c7f5bd5d9"
      },
      "execution_count": null,
      "outputs": [
        {
          "output_type": "stream",
          "name": "stdout",
          "text": [
            "65\n"
          ]
        }
      ]
    },
    {
      "cell_type": "code",
      "source": [
        "gem_count=50\n",
        "x=int(input(\"enter the no. of gems\"))\n",
        "gem_count=gem_count+x*5\n",
        "print(gem_count)"
      ],
      "metadata": {
        "colab": {
          "base_uri": "https://localhost:8080/"
        },
        "id": "mZdCiaRhIRpa",
        "outputId": "d907b9fa-136d-44c5-a49f-a4f7b6856ac2"
      },
      "execution_count": null,
      "outputs": [
        {
          "output_type": "stream",
          "name": "stdout",
          "text": [
            "enter the no. of gems5\n",
            "75\n"
          ]
        }
      ]
    },
    {
      "cell_type": "code",
      "source": [
        "hrv_index=80\n",
        "hrv_improves=10\n",
        "hrv_index=80+hrv_improves\n",
        "print(hrv_index)"
      ],
      "metadata": {
        "colab": {
          "base_uri": "https://localhost:8080/"
        },
        "id": "yYHabqrQVMgm",
        "outputId": "c51e66ac-5b1d-4d5b-c431-7bed9961f53c"
      },
      "execution_count": null,
      "outputs": [
        {
          "output_type": "stream",
          "name": "stdout",
          "text": [
            "90\n"
          ]
        }
      ]
    },
    {
      "cell_type": "code",
      "source": [
        "bacterial_count=5000\n",
        "bacterial_count=bacterial_count*2**8\n",
        "print(bacterial_count)"
      ],
      "metadata": {
        "colab": {
          "base_uri": "https://localhost:8080/"
        },
        "id": "GMfjL5uoVrOA",
        "outputId": "afe90501-d20b-4e4d-f04b-6484ed3180c1"
      },
      "execution_count": null,
      "outputs": [
        {
          "output_type": "stream",
          "name": "stdout",
          "text": [
            "1280000\n"
          ]
        }
      ]
    }
  ]
}