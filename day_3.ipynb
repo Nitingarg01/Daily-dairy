{
  "nbformat": 4,
  "nbformat_minor": 0,
  "metadata": {
    "colab": {
      "provenance": [],
      "authorship_tag": "ABX9TyPrhY7IYjt1428INAGksoOI",
      "include_colab_link": true
    },
    "kernelspec": {
      "name": "python3",
      "display_name": "Python 3"
    },
    "language_info": {
      "name": "python"
    }
  },
  "cells": [
    {
      "cell_type": "markdown",
      "metadata": {
        "id": "view-in-github",
        "colab_type": "text"
      },
      "source": [
        "<a href=\"https://colab.research.google.com/github/Nitingarg01/Daily-dairy/blob/main/day_3.ipynb\" target=\"_parent\"><img src=\"https://colab.research.google.com/assets/colab-badge.svg\" alt=\"Open In Colab\"/></a>"
      ]
    },
    {
      "cell_type": "markdown",
      "source": [
        "Day 3 of learning python set,dictionary"
      ],
      "metadata": {
        "id": "34hBrCfAEbMK"
      }
    },
    {
      "cell_type": "markdown",
      "source": [
        " 1. Create a set with the first five prime numbers"
      ],
      "metadata": {
        "id": "LyNmw0XoEciJ"
      }
    },
    {
      "cell_type": "code",
      "execution_count": null,
      "metadata": {
        "colab": {
          "base_uri": "https://localhost:8080/"
        },
        "id": "cUNB2YPa_dhA",
        "outputId": "6977d719-7913-49d5-c7f5-7da91a962aa2"
      },
      "outputs": [
        {
          "output_type": "stream",
          "name": "stdout",
          "text": [
            "{2, 3, 5, 7, 11}\n"
          ]
        }
      ],
      "source": [
        "prime_number={2,3,5,7,11}\n",
        "print(prime_number)"
      ]
    },
    {
      "cell_type": "markdown",
      "source": [
        "Add the number 7 to the set."
      ],
      "metadata": {
        "id": "YhN65HzIFCgo"
      }
    },
    {
      "cell_type": "code",
      "source": [
        "\n",
        "\n",
        "{2,3,5,7,11}.union({11})\n"
      ],
      "metadata": {
        "colab": {
          "base_uri": "https://localhost:8080/"
        },
        "id": "OAmt7crIFK5M",
        "outputId": "8641936a-47d2-4371-d401-a4472dad4981"
      },
      "execution_count": null,
      "outputs": [
        {
          "output_type": "execute_result",
          "data": {
            "text/plain": [
              "{2, 3, 5, 7, 11}"
            ]
          },
          "metadata": {},
          "execution_count": 9
        }
      ]
    },
    {
      "cell_type": "markdown",
      "source": [
        ". Remove the number 3 from the set"
      ],
      "metadata": {
        "id": "bkF8NrOnGmP9"
      }
    },
    {
      "cell_type": "code",
      "source": [
        "prime_number={2,3,5,7,11}\n",
        "remove={3}\n",
        "prime_number-remove"
      ],
      "metadata": {
        "colab": {
          "base_uri": "https://localhost:8080/"
        },
        "id": "csRTtnZfGl1R",
        "outputId": "b602c67b-4f8b-4243-9d9b-b80c8bceafd6"
      },
      "execution_count": null,
      "outputs": [
        {
          "output_type": "execute_result",
          "data": {
            "text/plain": [
              "{2, 5, 7, 11}"
            ]
          },
          "metadata": {},
          "execution_count": 10
        }
      ]
    },
    {
      "cell_type": "markdown",
      "source": [
        " Check if the set is a subset of {2, 3, 5, 7, 11}."
      ],
      "metadata": {
        "id": "9w_z09qHHCxS"
      }
    },
    {
      "cell_type": "code",
      "source": [
        "prime_number={2, 5, 7, 11}\n",
        "prime_number.issubset({2, 3, 5, 7, 11})"
      ],
      "metadata": {
        "colab": {
          "base_uri": "https://localhost:8080/"
        },
        "id": "iwdZhaQ1HF87",
        "outputId": "40130772-ef4b-4519-df8c-3a4a6b7e3fd8"
      },
      "execution_count": null,
      "outputs": [
        {
          "output_type": "execute_result",
          "data": {
            "text/plain": [
              "True"
            ]
          },
          "metadata": {},
          "execution_count": 12
        }
      ]
    },
    {
      "cell_type": "markdown",
      "source": [
        " Find the union of the set with {7, 11, 13}."
      ],
      "metadata": {
        "id": "hJrpgcxGHX36"
      }
    },
    {
      "cell_type": "code",
      "source": [
        "prime_number={2, 3, 5, 7, 11}\n",
        "seet={7,11,13}\n",
        "prime_number.union(seet)"
      ],
      "metadata": {
        "colab": {
          "base_uri": "https://localhost:8080/"
        },
        "id": "5ty1ooTaHimZ",
        "outputId": "2e3cfc3e-f4ea-42c0-87a2-c0a62a04299c"
      },
      "execution_count": null,
      "outputs": [
        {
          "output_type": "execute_result",
          "data": {
            "text/plain": [
              "{2, 3, 5, 7, 11, 13}"
            ]
          },
          "metadata": {},
          "execution_count": 13
        }
      ]
    },
    {
      "cell_type": "markdown",
      "source": [
        " Create a frozen set from the original set."
      ],
      "metadata": {
        "id": "rTOtZcySH0UF"
      }
    },
    {
      "cell_type": "code",
      "source": [
        "s=frozenset({\"abkab\",\"ee\"})\n",
        "print(s.remove(\"ee\"))\n",
        "\n"
      ],
      "metadata": {
        "colab": {
          "base_uri": "https://localhost:8080/",
          "height": 176
        },
        "id": "2FWQqu_YH5S0",
        "outputId": "539c0acd-b1c6-4a85-b4f4-6dcc8e7f866e"
      },
      "execution_count": null,
      "outputs": [
        {
          "output_type": "error",
          "ename": "AttributeError",
          "evalue": "'frozenset' object has no attribute 'remove'",
          "traceback": [
            "\u001b[0;31m---------------------------------------------------------------------------\u001b[0m",
            "\u001b[0;31mAttributeError\u001b[0m                            Traceback (most recent call last)",
            "\u001b[0;32m<ipython-input-23-8154fd796526>\u001b[0m in \u001b[0;36m<cell line: 2>\u001b[0;34m()\u001b[0m\n\u001b[1;32m      1\u001b[0m \u001b[0ms\u001b[0m\u001b[0;34m=\u001b[0m\u001b[0mfrozenset\u001b[0m\u001b[0;34m(\u001b[0m\u001b[0;34m{\u001b[0m\u001b[0;34m\"abkab\"\u001b[0m\u001b[0;34m,\u001b[0m\u001b[0;34m\"ee\"\u001b[0m\u001b[0;34m}\u001b[0m\u001b[0;34m)\u001b[0m\u001b[0;34m\u001b[0m\u001b[0;34m\u001b[0m\u001b[0m\n\u001b[0;32m----> 2\u001b[0;31m \u001b[0mprint\u001b[0m\u001b[0;34m(\u001b[0m\u001b[0ms\u001b[0m\u001b[0;34m.\u001b[0m\u001b[0mremove\u001b[0m\u001b[0;34m(\u001b[0m\u001b[0;34m\"ee\"\u001b[0m\u001b[0;34m)\u001b[0m\u001b[0;34m)\u001b[0m\u001b[0;34m\u001b[0m\u001b[0;34m\u001b[0m\u001b[0m\n\u001b[0m\u001b[1;32m      3\u001b[0m \u001b[0;34m\u001b[0m\u001b[0m\n",
            "\u001b[0;31mAttributeError\u001b[0m: 'frozenset' object has no attribute 'remove'"
          ]
        }
      ]
    },
    {
      "cell_type": "markdown",
      "source": [
        " Check if the set has any common elements with {1, 4, 9}\n"
      ],
      "metadata": {
        "id": "QUeHAiQdIvx6"
      }
    },
    {
      "cell_type": "code",
      "source": [
        "prime_number={2, 3, 5, 7, 11}\n",
        "prime_number.intersection({1,4,9})"
      ],
      "metadata": {
        "colab": {
          "base_uri": "https://localhost:8080/"
        },
        "id": "Intpv1ZBI0hC",
        "outputId": "9f39de3e-6c60-4083-906f-5dcb04d08117"
      },
      "execution_count": null,
      "outputs": [
        {
          "output_type": "execute_result",
          "data": {
            "text/plain": [
              "set()"
            ]
          },
          "metadata": {},
          "execution_count": 16
        }
      ]
    },
    {
      "cell_type": "markdown",
      "source": [
        "Remove all elements from the set."
      ],
      "metadata": {
        "id": "l96OiPjXJsIg"
      }
    },
    {
      "cell_type": "markdown",
      "source": [],
      "metadata": {
        "id": "F_bSz4kUJxRs"
      }
    },
    {
      "cell_type": "code",
      "source": [
        "prime_number={2, 3, 5, 7, 11}\n",
        "\n",
        "prime_number.clear()"
      ],
      "metadata": {
        "id": "s1pbpFYBJzJe"
      },
      "execution_count": null,
      "outputs": []
    },
    {
      "cell_type": "markdown",
      "source": [
        ". Create a set of your favorite fruits and nd the intersection with { 'apple', 'banana', 'orange' }."
      ],
      "metadata": {
        "id": "FOfc7eUKKaM1"
      }
    },
    {
      "cell_type": "code",
      "source": [
        "friuts={\"mango\",\"banana\"}\n",
        "fruits2={ 'apple', 'banana', 'orange' }\n",
        "friuts.intersection(fruits2)"
      ],
      "metadata": {
        "colab": {
          "base_uri": "https://localhost:8080/"
        },
        "id": "fn74OQUDKZnY",
        "outputId": "409f9547-4046-405c-bfd3-7fdb2c1bfaee"
      },
      "execution_count": null,
      "outputs": [
        {
          "output_type": "execute_result",
          "data": {
            "text/plain": [
              "{'banana'}"
            ]
          },
          "metadata": {},
          "execution_count": 18
        }
      ]
    },
    {
      "cell_type": "markdown",
      "source": [
        "Use set comprehension to create a set of squares for numbers 1 to 10.\n"
      ],
      "metadata": {
        "id": "RqGkjS_NKzsO"
      }
    },
    {
      "cell_type": "markdown",
      "source": [],
      "metadata": {
        "id": "QI2r1hpIK4mx"
      }
    },
    {
      "cell_type": "code",
      "source": [
        "squares_set = {x**2 for x in range(1, 11)}\n",
        "\n",
        "# Printing the set of squares\n",
        "print(squares_set)"
      ],
      "metadata": {
        "colab": {
          "base_uri": "https://localhost:8080/"
        },
        "id": "-puT_bltL7BV",
        "outputId": "226823ca-1e9f-404e-8f2a-b4ef1cca9db0"
      },
      "execution_count": null,
      "outputs": [
        {
          "output_type": "stream",
          "name": "stdout",
          "text": [
            "{64, 1, 4, 36, 100, 9, 16, 49, 81, 25}\n"
          ]
        }
      ]
    },
    {
      "cell_type": "markdown",
      "source": [
        "list\n",
        ". Create a list of integers from 1 to 5"
      ],
      "metadata": {
        "id": "kiWDEAReMzDx"
      }
    },
    {
      "cell_type": "code",
      "source": [
        "se=[x for x in range(1,6)]\n",
        "print(se)"
      ],
      "metadata": {
        "colab": {
          "base_uri": "https://localhost:8080/"
        },
        "id": "mdmImJniNKWq",
        "outputId": "6513c625-75fd-4468-8833-9f2119c6727f"
      },
      "execution_count": null,
      "outputs": [
        {
          "output_type": "stream",
          "name": "stdout",
          "text": [
            "[1, 2, 3, 4, 5]\n"
          ]
        }
      ]
    },
    {
      "cell_type": "markdown",
      "source": [
        ". Append the number 6 to the list."
      ],
      "metadata": {
        "id": "NRcCFBOiNvlK"
      }
    },
    {
      "cell_type": "code",
      "source": [
        "se=[1, 2, 3, 4, 5]\n",
        "se.append(6)\n",
        "print(se)"
      ],
      "metadata": {
        "colab": {
          "base_uri": "https://localhost:8080/"
        },
        "id": "SxYO8AndNWeC",
        "outputId": "a86c86fb-6018-4c25-d6a2-6315d24225ad"
      },
      "execution_count": null,
      "outputs": [
        {
          "output_type": "stream",
          "name": "stdout",
          "text": [
            "[1, 2, 3, 4, 5, 6]\n"
          ]
        }
      ]
    },
    {
      "cell_type": "markdown",
      "source": [
        " 3. Extend the list with another list: [7, 8, 9].\n"
      ],
      "metadata": {
        "id": "tRGt10bpNsCa"
      }
    },
    {
      "cell_type": "code",
      "source": [
        "se=[1, 2, 3, 4, 5,6]\n",
        "dr=  [7, 8, 9]\n",
        "se.extend(dr)\n",
        "print(se)\n",
        "\n"
      ],
      "metadata": {
        "colab": {
          "base_uri": "https://localhost:8080/"
        },
        "id": "3c-1JhPOOEYc",
        "outputId": "fe46e415-930a-4234-a3fd-bccd4df022fc"
      },
      "execution_count": null,
      "outputs": [
        {
          "output_type": "stream",
          "name": "stdout",
          "text": [
            "[1, 2, 3, 4, 5, 6, 7, 8, 9]\n"
          ]
        }
      ]
    },
    {
      "cell_type": "markdown",
      "source": [
        "\n",
        "\n",
        ". Access and print the third element of the list"
      ],
      "metadata": {
        "id": "cU3-9YzXOhks"
      }
    },
    {
      "cell_type": "markdown",
      "source": [],
      "metadata": {
        "id": "XoR5xVeyN92t"
      }
    },
    {
      "cell_type": "code",
      "source": [
        "se=[1, 2, 3, 4, 5, 6, 7, 8, 9]\n",
        "se[2]"
      ],
      "metadata": {
        "colab": {
          "base_uri": "https://localhost:8080/"
        },
        "id": "1jfmiqzcOm34",
        "outputId": "30a60a9a-e2ee-46c6-8283-97d8e8287e47"
      },
      "execution_count": null,
      "outputs": [
        {
          "output_type": "execute_result",
          "data": {
            "text/plain": [
              "3"
            ]
          },
          "metadata": {},
          "execution_count": 35
        }
      ]
    },
    {
      "cell_type": "markdown",
      "source": [
        " 1. Basic Dictionary Operations:\n",
        " Create a dictionary named\n",
        "appropriate values.\n",
        " student with keys \"name,\" \"age,\" and \"grade,\" and assign\n",
        " Print the value associated with the \"age\" key.\n",
        "Update the \"grade\" to a new value.\n",
        " Add a new key-value pair for \"subject\" and its corresponding value."
      ],
      "metadata": {
        "id": "BL5S9ALJPegJ"
      }
    },
    {
      "cell_type": "code",
      "source": [
        "student={'name':\"nitin\",'age':20,'grade':100}\n",
        "print(student.get('age'))\n",
        "students2={'grade':200}\n",
        "student.update(students2)\n",
        "print(student)\n",
        "student['subject']='hindi'\n",
        "print(student)\n"
      ],
      "metadata": {
        "colab": {
          "base_uri": "https://localhost:8080/"
        },
        "id": "hdMXmMhqPd3E",
        "outputId": "914a013c-0a78-4e5b-9dfa-fed4e80d1a50"
      },
      "execution_count": null,
      "outputs": [
        {
          "output_type": "stream",
          "name": "stdout",
          "text": [
            "20\n",
            "{'name': 'nitin', 'age': 20, 'grade': 200}\n",
            "{'name': 'nitin', 'age': 20, 'grade': 200, 'subject': 'hindi'}\n"
          ]
        }
      ]
    },
    {
      "cell_type": "markdown",
      "source": [
        " Dictionary Manipulation:\n",
        " Create two dictionaries,\n",
        "dict1 and\n",
        "dict2, with at least three key-value pairs each.\n",
        " Merge these dictionaries into a new dictionary called\n",
        "merged_dict.\n",
        " Remove a key from\n",
        "merged_dict.\n",
        " Check if a speci c key exists in\n",
        "dict1"
      ],
      "metadata": {
        "id": "Fi-LDN5enZGx"
      }
    },
    {
      "cell_type": "code",
      "source": [
        "dic1={'name':\"nitin\",'age':20,'grade':100}\n",
        "dic2={'fruit':\"apple\",'mobile':\"iphone\",'laptop':\"asus\"}\n",
        "merge_dic={**dic1,**dic2}\n",
        "print(merge_dic)\n",
        "merge_dic.pop('fruit')\n",
        "print(merge_dic)\n",
        "check='name'\n",
        "check_in_dic1=check in dic1\n",
        "print(\"check a name key in dic ?\\n\",check_in_dic1)\n"
      ],
      "metadata": {
        "colab": {
          "base_uri": "https://localhost:8080/"
        },
        "id": "3R6iKqRGtFV-",
        "outputId": "e6029578-8580-4fa6-c487-609d8f448598"
      },
      "execution_count": 2,
      "outputs": [
        {
          "output_type": "stream",
          "name": "stdout",
          "text": [
            "{'name': 'nitin', 'age': 20, 'grade': 100, 'fruit': 'apple', 'mobile': 'iphone', 'laptop': 'asus'}\n",
            "{'name': 'nitin', 'age': 20, 'grade': 100, 'mobile': 'iphone', 'laptop': 'asus'}\n",
            "check a name key in dic ?\n",
            " True\n"
          ]
        }
      ]
    },
    {
      "cell_type": "markdown",
      "source": [
        " 3. Iterating Through a Dictionary:\n",
        " Use a loop to print all keys in the\n",
        "student dictionary.\n",
        " Use another loop to print all values in the\n",
        "student dictionary.\n",
        " Write a loop to print each key-value pair in the\n"
      ],
      "metadata": {
        "id": "NcTcH2SQwcnZ"
      }
    },
    {
      "cell_type": "code",
      "source": [
        "my_dict = {'1': 'MUKTA', '2': 'DIKSHA', '3': 'NISHTHA'}\n",
        "print(\"Keys in my_dict dictionary:\")\n",
        "for key in my_dict.keys():\n",
        "    print(key)\n",
        "print(\"values in my_dict dictionary:\")\n",
        "for values in my_dict.values():\n",
        "    print(values)\n",
        "print(\"key pair in my_dic Dictionary\")\n",
        "\n",
        "for key,values in student.items():\n",
        "    print(f\"{key}: {values}\")\n",
        "\n",
        "\n"
      ],
      "metadata": {
        "colab": {
          "base_uri": "https://localhost:8080/"
        },
        "id": "bz_w40HqxQ1a",
        "outputId": "784d3f1d-6fd4-428b-9749-1e95d331dc50"
      },
      "execution_count": null,
      "outputs": [
        {
          "output_type": "stream",
          "name": "stdout",
          "text": [
            "Keys in my_dict dictionary:\n",
            "1\n",
            "2\n",
            "3\n",
            "values in my_dict dictionary:\n",
            "MUKTA\n",
            "DIKSHA\n",
            "NISHTHA\n",
            "key pair in my_dic Dictionary\n",
            "name: nitin\n",
            "age: 20\n",
            "grade: 200\n",
            "subject: hindi\n"
          ]
        }
      ]
    },
    {
      "cell_type": "markdown",
      "source": [
        "\n",
        " Create a dictionary comprehension to generate a dictionary of squares from 1 to 10.\n",
        " Filter the above dictionary to include only even squares."
      ],
      "metadata": {
        "id": "ekwNAOK46COT"
      }
    },
    {
      "cell_type": "code",
      "source": [
        "squares_dict = {num: num**2 for num in range(1, 11)}\n",
        "print(\"Dictionary of squares from 1 to 10:\")\n",
        "print(squares_dict)\n",
        "even_squares_dict = {num: num**2 for num in range(1, 11) if num % 2 == 0}\n",
        "print(\"Filtered dictionary with only even numbers and their squares:\")\n",
        "print(even_squares_dict )\n"
      ],
      "metadata": {
        "colab": {
          "base_uri": "https://localhost:8080/"
        },
        "id": "aAtltbtG2rV4",
        "outputId": "6a718af8-f1ea-46da-a249-e3e33f2df9d6"
      },
      "execution_count": null,
      "outputs": [
        {
          "output_type": "stream",
          "name": "stdout",
          "text": [
            "Dictionary of squares from 1 to 10:\n",
            "{1: 1, 2: 4, 3: 9, 4: 16, 5: 25, 6: 36, 7: 49, 8: 64, 9: 81, 10: 100}\n",
            "Filtered dictionary with only even numbers and their squares:\n",
            "{2: 4, 4: 16, 6: 36, 8: 64, 10: 100}\n"
          ]
        }
      ]
    },
    {
      "cell_type": "markdown",
      "source": [
        "Nested Dictionaries:\n",
        " Create a dictionary named\n",
        "school with multiple students (nested dictionaries).\n",
        " Access and print information about a speci c student within the\n",
        "school dictionary"
      ],
      "metadata": {
        "id": "Bn8Ki3X95nHe"
      }
    },
    {
      "cell_type": "code",
      "source": [
        "\n",
        "school = {\n",
        "    \"student1\": {\n",
        "        \"name\": \"Alice Johnson\",\n",
        "        \"age\": 14,\n",
        "        \"grade\": 9\n",
        "    },\n",
        "    \"student2\": {\n",
        "        \"name\": \"Bob Smith\",\n",
        "        \"age\": 15,\n",
        "        \"grade\": 10\n",
        "    },\n",
        "    \"student3\": {\n",
        "        \"name\": \"Charlie Brown\",\n",
        "        \"age\": 16,\n",
        "        \"grade\": 11\n",
        "    }\n",
        "}\n",
        "\n",
        "\n",
        "student_id = \"student2\"\n",
        "if student_id in school:\n",
        "    student_info = school[student_id]\n",
        "    print(f\"Information for {student_id}:\")\n",
        "    print(f\"Name: {student_info['name']}\")\n",
        "    print(f\"Age: {student_info['age']}\")\n",
        "    print(f\"Grade: {student_info['grade']}\")\n",
        "else:\n",
        "    print(f\"No information found for {student_id}.\")\n"
      ],
      "metadata": {
        "id": "T4LurobAwqrs",
        "colab": {
          "base_uri": "https://localhost:8080/"
        },
        "outputId": "c9fd13b6-e0dc-4309-eac6-c9bfaa1b3b71"
      },
      "execution_count": 3,
      "outputs": [
        {
          "output_type": "stream",
          "name": "stdout",
          "text": [
            "Information for student2:\n",
            "Name: Bob Smith\n",
            "Age: 15\n",
            "Grade: 10\n"
          ]
        }
      ]
    },
    {
      "cell_type": "markdown",
      "source": [
        " . Dictionary Functions:\n",
        " Use the\n",
        "len() function to nd the number of items in a dictionary.\n",
        " Use the\n",
        "keys(),\n",
        "values(), and\n",
        " items() methods on a dictionary and print the results."
      ],
      "metadata": {
        "id": "J37Iu7G39rGN"
      }
    },
    {
      "cell_type": "code",
      "source": [
        "dic1={'1': 'MUKTA', '2': 'DIKSHA', '3': 'NISHTHA'}\n",
        "print(len(dic1))\n",
        "print(dic1.keys())\n",
        "print(dic1.values())"
      ],
      "metadata": {
        "colab": {
          "base_uri": "https://localhost:8080/"
        },
        "id": "IwYeMDUa-C5c",
        "outputId": "0d8376d8-e00b-4a56-f5f0-f18719680ccb"
      },
      "execution_count": 13,
      "outputs": [
        {
          "output_type": "stream",
          "name": "stdout",
          "text": [
            "3\n",
            "dict_keys(['1', '2', '3'])\n",
            "dict_values(['MUKTA', 'DIKSHA', 'NISHTHA'])\n"
          ]
        }
      ]
    },
    {
      "cell_type": "markdown",
      "source": [
        "\n",
        " Create a dictionary with unsorted keys.\n",
        " Use the\n",
        "sorted() function to print the keys in alphabetical order."
      ],
      "metadata": {
        "id": "rr27XPVmAoL5"
      }
    },
    {
      "cell_type": "code",
      "source": [
        "dic1={'name':\"nitin\",'age':20,'grade':100}\n",
        "print(sorted(dic1))"
      ],
      "metadata": {
        "colab": {
          "base_uri": "https://localhost:8080/"
        },
        "id": "ZSj4_S1hA6ry",
        "outputId": "5709e382-6c9f-463e-8cf4-900d41aff617"
      },
      "execution_count": 16,
      "outputs": [
        {
          "output_type": "stream",
          "name": "stdout",
          "text": [
            "['age', 'grade', 'name']\n"
          ]
        }
      ]
    },
    {
      "cell_type": "markdown",
      "source": [
        " Use the\n",
        "get() method to retrieve a value with a default if the key doesn't exist.\n",
        " Use the\n",
        "pop() method to remove and return a speci c key-value pair"
      ],
      "metadata": {
        "id": "eaosWTfkBJaR"
      }
    },
    {
      "cell_type": "code",
      "source": [
        "dic1={'name':\"nitin\",'age':20,'grade':100}\n",
        "print(dic1.get('ki'))\n",
        "dic1.pop('age')\n",
        "print(dic1)"
      ],
      "metadata": {
        "colab": {
          "base_uri": "https://localhost:8080/"
        },
        "id": "sBjKOaqgBRyk",
        "outputId": "10cfb7c5-62c2-483d-b04e-2239ab00f525"
      },
      "execution_count": 23,
      "outputs": [
        {
          "output_type": "stream",
          "name": "stdout",
          "text": [
            "None\n",
            "{'name': 'nitin', 'grade': 100}\n"
          ]
        }
      ]
    },
    {
      "cell_type": "markdown",
      "source": [
        " 4. Dictionary Operations:\n",
        " Create a dictionary named\n",
        "book with keys \"title,\" \"author,\" and \"year,\" and assign\n",
        " appropriate values.\n",
        " Print the author of the book.\n",
        " Update the year of the book to a new value.\n",
        " Remove the \"title\" key from the dictionary"
      ],
      "metadata": {
        "id": "Ph6uAetVDg53"
      }
    },
    {
      "cell_type": "code",
      "source": [
        "book={'title':\"freedom\",'author':\"ram_singh\",'year':2000}\n",
        "print(book.get('author'))\n",
        "book['year']=1980\n",
        "(book.pop('title'))\n",
        "print(book)"
      ],
      "metadata": {
        "colab": {
          "base_uri": "https://localhost:8080/"
        },
        "id": "bkxk882CDiDY",
        "outputId": "88a73b17-7f28-4482-c939-2c9880375484"
      },
      "execution_count": 28,
      "outputs": [
        {
          "output_type": "stream",
          "name": "stdout",
          "text": [
            "ram_singh\n",
            "{'author': 'ram_singh', 'year': 1980}\n"
          ]
        }
      ]
    },
    {
      "cell_type": "markdown",
      "source": [
        "\n",
        " Create a dictionary named\n",
        "library with multiple books (nested dictionaries).\n",
        " Access and print information about a speci c book within the library information\n",
        "."
      ],
      "metadata": {
        "id": "wMpEAk9cEXDh"
      }
    },
    {
      "cell_type": "code",
      "source": [
        "library={'book1':{'title':\"freedom\",'author':\"ram_singh\",'year':2000},'book2':{'title':\"dust\",'author':\"ram\",'year':200},'book3':{'title':\"right\",'author':\"Singh\",'year':20}}\n",
        "book_id=\"book1\"\n",
        "if book_id in library:\n",
        "  book_info=library[book_id]\n",
        "  print(book_info)\n",
        "\n"
      ],
      "metadata": {
        "colab": {
          "base_uri": "https://localhost:8080/"
        },
        "id": "1hWSbKIdEkKo",
        "outputId": "7dc48a3a-add7-4407-ca95-45fe9fa3db2e"
      },
      "execution_count": 30,
      "outputs": [
        {
          "output_type": "stream",
          "name": "stdout",
          "text": [
            "{'title': 'freedom', 'author': 'ram_singh', 'year': 2000}\n"
          ]
        }
      ]
    },
    {
      "cell_type": "markdown",
      "source": [
        " 1. Set Operations:\n",
        " Create two sets,\n",
        "set1 and\n",
        "set2, with some common elements.\n",
        " Find and print the union of the two sets.\n",
        " Determine the intersection of the sets.\n",
        " Check if one set is a subset of the other"
      ],
      "metadata": {
        "id": "_i4l1vQZHwDE"
      }
    },
    {
      "cell_type": "code",
      "source": [
        "set1={1,2,3,4,5}\n",
        "set2={3,4,5,6,}\n",
        "print(set1.union(set2))\n",
        "print(set1.intersection(set2))\n",
        "set1.issubset(set2)"
      ],
      "metadata": {
        "colab": {
          "base_uri": "https://localhost:8080/"
        },
        "id": "yEMF-sRcI9UV",
        "outputId": "bed6fc99-a23a-42b1-cc09-3429be95c173"
      },
      "execution_count": 33,
      "outputs": [
        {
          "output_type": "stream",
          "name": "stdout",
          "text": [
            "{1, 2, 3, 4, 5, 6}\n",
            "{3, 4, 5}\n"
          ]
        },
        {
          "output_type": "execute_result",
          "data": {
            "text/plain": [
              "False"
            ]
          },
          "metadata": {},
          "execution_count": 33
        }
      ]
    },
    {
      "cell_type": "markdown",
      "source": [
        "2. Set Manipulation:\n",
        " Add an element to\n",
        "set1.\n",
        " Remove an element from\n",
        "set2.\n",
        " Clear all elements from one of the sets."
      ],
      "metadata": {
        "id": "ahZT_S_pJjV_"
      }
    },
    {
      "cell_type": "code",
      "source": [
        "set1={1,2,3,4,5}\n",
        "set2={3,4,5,6,}\n",
        "set1.add(6)\n",
        "print(set1)\n",
        "(set2.remove(4))\n",
        "print(set2)\n"
      ],
      "metadata": {
        "colab": {
          "base_uri": "https://localhost:8080/"
        },
        "id": "1F0Rn5oYHzBY",
        "outputId": "45fab203-6db9-4444-c3ef-f4c49978b3f1"
      },
      "execution_count": 38,
      "outputs": [
        {
          "output_type": "stream",
          "name": "stdout",
          "text": [
            "{1, 2, 3, 4, 5, 6}\n",
            "{3, 5, 6}\n"
          ]
        }
      ]
    },
    {
      "cell_type": "markdown",
      "source": [],
      "metadata": {
        "id": "xNQxZxirKGj3"
      }
    },
    {
      "cell_type": "markdown",
      "source": [],
      "metadata": {
        "id": "EwxidgKAKUWG"
      }
    },
    {
      "cell_type": "markdown",
      "source": [
        " 3. Set Comprehension:\n",
        " Create a set comprehension that generates a set of squares from 1 to 10.\n",
        " Filter the above set to include only even squares"
      ],
      "metadata": {
        "id": "8YFILfccKo_Y"
      }
    },
    {
      "cell_type": "markdown",
      "source": [],
      "metadata": {
        "id": "EXt0QMYLKGgn"
      }
    },
    {
      "cell_type": "code",
      "source": [
        "squares_set = {num**2 for num in range(1, 11)}\n",
        "print(\"Dictionary of squares from 1 to 10:\")\n",
        "print(squares_set)\n",
        "even_squares_set = {num**2 for num in range(1, 11) if num % 2 == 0}\n",
        "print(\"Filtered set with only even numbers their squares:\")\n",
        "print(even_squares_set )"
      ],
      "metadata": {
        "colab": {
          "base_uri": "https://localhost:8080/"
        },
        "id": "1O2TRgk3KVzV",
        "outputId": "b9252111-70c5-4f4d-fab6-ff8f3c34f066"
      },
      "execution_count": 39,
      "outputs": [
        {
          "output_type": "stream",
          "name": "stdout",
          "text": [
            "Dictionary of squares from 1 to 10:\n",
            "{64, 1, 4, 36, 100, 9, 16, 49, 81, 25}\n",
            "Filtered set with only even numbers their squares:\n",
            "{64, 100, 4, 36, 16}\n"
          ]
        }
      ]
    },
    {
      "cell_type": "markdown",
      "source": [],
      "metadata": {
        "id": "sdqCO2vzKnLH"
      }
    },
    {
      "cell_type": "markdown",
      "source": [
        " List Operations:\n",
        " Create a list named\n",
        "\n",
        " fruits with at least ve different fruit names.\n",
        " Add a new fruit to the list.\n",
        " Remove a speci c fruit from the list.\n",
        " Reverse the order of the elements in the list"
      ],
      "metadata": {
        "id": "zMcAgJufKsoR"
      }
    },
    {
      "cell_type": "code",
      "source": [
        "list1=['apple','mango','orange','banana','berry']\n",
        "print(list1)\n",
        "list1.remove('apple')\n",
        "print(list1)\n",
        "list1.reverse()\n",
        "print(list1)"
      ],
      "metadata": {
        "colab": {
          "base_uri": "https://localhost:8080/"
        },
        "id": "NhhRBVXSKy-G",
        "outputId": "02fd1982-db7b-47a7-cfb5-9100da5bd819"
      },
      "execution_count": 47,
      "outputs": [
        {
          "output_type": "stream",
          "name": "stdout",
          "text": [
            "['apple', 'mango', 'orange', 'banana', 'berry']\n",
            "['mango', 'orange', 'banana', 'berry']\n",
            "['berry', 'banana', 'orange', 'mango']\n"
          ]
        }
      ]
    },
    {
      "cell_type": "markdown",
      "source": [
        "7. List Comprehension:\n",
        "\n",
        " Create a list comprehension that generates a list of cubes from 1 to 10.\n",
        " Filter the above list to include only even cubes."
      ],
      "metadata": {
        "id": "1YW959PcW5Pj"
      }
    },
    {
      "cell_type": "code",
      "source": [
        "lsit1=[x**3 for x in range(1,11)]\n",
        "print(lsit1)\n",
        "lsit1=[x**3 for x in range(1,11)if x%2==0]\n",
        "print(\"only cubes in this range\",lsit1)"
      ],
      "metadata": {
        "colab": {
          "base_uri": "https://localhost:8080/"
        },
        "id": "WevbnF8kXC4v",
        "outputId": "495293dd-8042-4a5b-9403-58c4ca54420d"
      },
      "execution_count": 53,
      "outputs": [
        {
          "output_type": "stream",
          "name": "stdout",
          "text": [
            "[1, 8, 27, 64, 125, 216, 343, 512, 729, 1000]\n",
            "only cubes in this range [8, 64, 216, 512, 1000]\n"
          ]
        }
      ]
    },
    {
      "cell_type": "markdown",
      "source": [
        "Tuples:\n",
        " . Tuple Operations:\n",
        " Create a tuple named\n",
        "colors with at least three different color names.\n",
        " Access and print the second element of the tuple.\n",
        " Try to change the value of one element in the tuple and explain the result."
      ],
      "metadata": {
        "id": "AGeWPC3rX7cb"
      }
    },
    {
      "cell_type": "code",
      "source": [
        "tuple1=('red','green','orange')\n",
        "print(tuple1[1])\n",
        "tuple1[1]='yellow'\n",
        "print(tuple1)"
      ],
      "metadata": {
        "colab": {
          "base_uri": "https://localhost:8080/",
          "height": 211
        },
        "id": "-zui9CqrYE-a",
        "outputId": "552253a8-41f8-48e9-a3dc-44966244fad2"
      },
      "execution_count": 61,
      "outputs": [
        {
          "output_type": "stream",
          "name": "stdout",
          "text": [
            "green\n"
          ]
        },
        {
          "output_type": "error",
          "ename": "TypeError",
          "evalue": "'tuple' object does not support item assignment",
          "traceback": [
            "\u001b[0;31m---------------------------------------------------------------------------\u001b[0m",
            "\u001b[0;31mTypeError\u001b[0m                                 Traceback (most recent call last)",
            "\u001b[0;32m<ipython-input-61-5dae3846e951>\u001b[0m in \u001b[0;36m<cell line: 3>\u001b[0;34m()\u001b[0m\n\u001b[1;32m      1\u001b[0m \u001b[0mtuple1\u001b[0m\u001b[0;34m=\u001b[0m\u001b[0;34m(\u001b[0m\u001b[0;34m'red'\u001b[0m\u001b[0;34m,\u001b[0m\u001b[0;34m'green'\u001b[0m\u001b[0;34m,\u001b[0m\u001b[0;34m'orange'\u001b[0m\u001b[0;34m)\u001b[0m\u001b[0;34m\u001b[0m\u001b[0;34m\u001b[0m\u001b[0m\n\u001b[1;32m      2\u001b[0m \u001b[0mprint\u001b[0m\u001b[0;34m(\u001b[0m\u001b[0mtuple1\u001b[0m\u001b[0;34m[\u001b[0m\u001b[0;36m1\u001b[0m\u001b[0;34m]\u001b[0m\u001b[0;34m)\u001b[0m\u001b[0;34m\u001b[0m\u001b[0;34m\u001b[0m\u001b[0m\n\u001b[0;32m----> 3\u001b[0;31m \u001b[0mtuple1\u001b[0m\u001b[0;34m[\u001b[0m\u001b[0;36m1\u001b[0m\u001b[0;34m]\u001b[0m\u001b[0;34m=\u001b[0m\u001b[0;34m'yellow'\u001b[0m\u001b[0;34m\u001b[0m\u001b[0;34m\u001b[0m\u001b[0m\n\u001b[0m\u001b[1;32m      4\u001b[0m \u001b[0mprint\u001b[0m\u001b[0;34m(\u001b[0m\u001b[0mtuple1\u001b[0m\u001b[0;34m)\u001b[0m\u001b[0;34m\u001b[0m\u001b[0;34m\u001b[0m\u001b[0m\n",
            "\u001b[0;31mTypeError\u001b[0m: 'tuple' object does not support item assignment"
          ]
        }
      ]
    },
    {
      "cell_type": "markdown",
      "source": [
        "9. Mixed Sequences:\n",
        " Create a list that contains a mix of sets, dictionaries, lists, and tuples.\n",
        " Access and print an element from each of these sequences within the list"
      ],
      "metadata": {
        "id": "GS8DeyLjZELO"
      }
    },
    {
      "cell_type": "code",
      "source": [
        "mixed_list = [\n",
        "    {1, 2, 3},                   # Set\n",
        "    {'key1': 'value1', 'key2': 'value2'},  # Dictionary\n",
        "    [4, 5, 6],                   # List\n",
        "    ('a', 'b', 'c')              # Tuple\n",
        "]\n",
        "set_element = list(mixed_list[0])[0]\n",
        "print(f\"Element from set: {set_element}\")\n",
        "dict_element = mixed_list[1]['key1']\n",
        "print(f\"Element from dictionary: {dict_element}\")\n",
        "list_element = mixed_list[2][1]\n",
        "print(f\"Element from list: {list_element}\")\n",
        "tuple_element = mixed_list[3][2]\n",
        "print(f\"Element from tuple: {tuple_element}\")\n",
        "\n"
      ],
      "metadata": {
        "colab": {
          "base_uri": "https://localhost:8080/"
        },
        "id": "ZYOZKNThZ1ff",
        "outputId": "9587b606-ba4d-4025-ae4e-a087df57da47"
      },
      "execution_count": 66,
      "outputs": [
        {
          "output_type": "stream",
          "name": "stdout",
          "text": [
            "Element from set: 1\n",
            "Element from dictionary: value1\n",
            "Element from list: 5\n",
            "Element from tuple: c\n"
          ]
        }
      ]
    }
  ]
}